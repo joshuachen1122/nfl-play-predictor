{
 "cells": [
  {
   "cell_type": "markdown",
   "metadata": {
    "id": "YbvQP7HtPiUc"
   },
   "source": [
    "<div class=\"alert\" style=\"background-color:#fff; color:white; padding:0px 10px; border-radius:5px;\"><h1 style='margin:15px 15px; color:#006a79; font-size:40px'>Predicting Rush Or Pass LightGBM Model With Feature Engineering</h1>\n",
    "</div>"
   ]
  },
  {
   "cell_type": "markdown",
   "metadata": {
    "id": "6aVvD7suPiUf"
   },
   "source": [
    "<div class=\"alert alert-info\" style=\"background-color:#006a79; color:white; padding:0px 10px; border-radius:5px;\"><h2 style='margin:10px 5px'>Setup Environment</h2>\n",
    "</div>"
   ]
  },
  {
   "cell_type": "code",
   "execution_count": 1,
   "metadata": {
    "execution": {
     "iopub.execute_input": "2025-08-18T06:07:36.589620Z",
     "iopub.status.busy": "2025-08-18T06:07:36.589620Z",
     "iopub.status.idle": "2025-08-18T06:07:38.133373Z",
     "shell.execute_reply": "2025-08-18T06:07:38.132943Z"
    },
    "id": "osHGTPchPiUf"
   },
   "outputs": [],
   "source": [
    "#Import Libraries\n",
    "import pandas as pd\n",
    "import numpy as np\n",
    "import nfl_data_py as nfl\n",
    "import re\n",
    "\n",
    "pd.set_option('display.max_rows', 800)\n",
    "pd.set_option('display.max_columns', 500)\n",
    "\n",
    "import matplotlib.pyplot as plt\n",
    "import matplotlib as mpl\n",
    "import seaborn as sns\n",
    "sns.set()\n",
    "\n",
    "import warnings\n",
    "warnings.filterwarnings('ignore')\n",
    "\n",
    "from sklearn.model_selection import GroupShuffleSplit\n",
    "from sklearn.preprocessing import OrdinalEncoder\n",
    "from sklearn.metrics import accuracy_score, f1_score, confusion_matrix, classification_report, brier_score_loss, log_loss, roc_auc_score\n",
    "import lightgbm as lgb\n",
    "\n",
    "# from sklearn.model_selection import train_test_split\n",
    "# from sklearn.preprocessing import StandardScaler\n",
    "from sklearn.metrics import confusion_matrix \n",
    "from sklearn.metrics import classification_report \n",
    "from sklearn.metrics import accuracy_score \n",
    "from sklearn.metrics import RocCurveDisplay\n",
    "from sklearn.metrics import PrecisionRecallDisplay\n",
    "from sklearn.metrics import ConfusionMatrixDisplay\n",
    "from lightgbm import LGBMClassifier\n",
    "from lightgbm import early_stopping, log_evaluation\n",
    "from sklearn.model_selection import GroupKFold\n",
    "from sklearn.isotonic import IsotonicRegression\n",
    "from sklearn.metrics import roc_curve, auc\n",
    "from sklearn.metrics import precision_recall_curve, average_precision_score\n",
    "from sklearn.calibration import calibration_curve"
   ]
  },
  {
   "cell_type": "markdown",
   "metadata": {
    "id": "f4Yg8PLrPiUg"
   },
   "source": [
    "<div class=\"alert alert-info\" style=\"background-color:#006a79; color:white; padding:0px 10px; border-radius:5px;\"><h2 style='margin:10px 5px'>Load Data</h2>\n",
    "</div>"
   ]
  },
  {
   "cell_type": "code",
   "execution_count": 2,
   "metadata": {
    "execution": {
     "iopub.execute_input": "2025-08-18T06:07:38.135394Z",
     "iopub.status.busy": "2025-08-18T06:07:38.134388Z",
     "iopub.status.idle": "2025-08-18T06:07:42.386063Z",
     "shell.execute_reply": "2025-08-18T06:07:42.386063Z"
    },
    "id": "DLKcXViUPiUg"
   },
   "outputs": [
    {
     "name": "stdout",
     "output_type": "stream",
     "text": [
      "2024 done.\n",
      "Downcasting floats.\n"
     ]
    }
   ],
   "source": [
    "years = [2024]\n",
    "play_by_play = nfl.import_pbp_data(years, downcast=True, cache=False)"
   ]
  },
  {
   "cell_type": "markdown",
   "metadata": {
    "id": "7y4fvuREPiUj"
   },
   "source": [
    "<div class=\"alert alert-info\" style=\"background-color:#006a79; color:white; padding:0px 10px; border-radius:5px;\"><h2 style='margin:10px 5px'>Data preprocessing (label creation + basic cleaning)</h2>\n",
    "</div>"
   ]
  },
  {
   "cell_type": "code",
   "execution_count": 3,
   "metadata": {
    "execution": {
     "iopub.execute_input": "2025-08-18T06:07:42.386063Z",
     "iopub.status.busy": "2025-08-18T06:07:42.386063Z",
     "iopub.status.idle": "2025-08-18T06:07:42.397326Z",
     "shell.execute_reply": "2025-08-18T06:07:42.397326Z"
    }
   },
   "outputs": [
    {
     "data": {
      "text/plain": [
       "pass           20006\n",
       "run            15044\n",
       "no_play         4934\n",
       "kickoff         2949\n",
       "punt            2119\n",
       "None            1460\n",
       "extra_point     1302\n",
       "field_goal      1166\n",
       "qb_kneel         437\n",
       "qb_spike          75\n",
       "Name: play_type, dtype: int64"
      ]
     },
     "execution_count": 3,
     "metadata": {},
     "output_type": "execute_result"
    }
   ],
   "source": [
    "play_by_play[\"play_type\"].value_counts(dropna=False)"
   ]
  },
  {
   "cell_type": "code",
   "execution_count": 4,
   "metadata": {
    "execution": {
     "iopub.execute_input": "2025-08-18T06:07:42.397326Z",
     "iopub.status.busy": "2025-08-18T06:07:42.397326Z",
     "iopub.status.idle": "2025-08-18T06:07:42.512391Z",
     "shell.execute_reply": "2025-08-18T06:07:42.512391Z"
    }
   },
   "outputs": [
    {
     "name": "stdout",
     "output_type": "stream",
     "text": [
      "Counts:\n",
      "pass     20006\n",
      "run      15044\n",
      "other    14442\n",
      "Name: play_type_simple, dtype: int64\n"
     ]
    }
   ],
   "source": [
    "# normalize the play_type string (safe for NaN)\n",
    "play_by_play['play_type_norm'] = play_by_play['play_type'].astype(str).str.strip().str.lower()\n",
    "\n",
    "# strict mapping: only exact 'pass' and 'run' become those classes; everything else -> 'other'\n",
    "def simple_map(x):\n",
    "    if x == 'pass':\n",
    "        return 'pass'\n",
    "    if x == 'run':\n",
    "        return 'run'\n",
    "    return 'other'\n",
    "\n",
    "play_by_play['play_type_simple'] = play_by_play['play_type_norm'].apply(simple_map).astype('category')\n",
    "\n",
    "# print counts\n",
    "print(\"Counts:\")\n",
    "print(play_by_play['play_type_simple'].value_counts(dropna=False))\n",
    "\n",
    "# drop intermediate column play_type_norm\n",
    "play_by_play.drop(['play_type_norm'],axis=1,inplace=True)"
   ]
  },
  {
   "cell_type": "code",
   "execution_count": 5,
   "metadata": {
    "execution": {
     "iopub.execute_input": "2025-08-18T06:07:42.512391Z",
     "iopub.status.busy": "2025-08-18T06:07:42.512391Z",
     "iopub.status.idle": "2025-08-18T06:07:42.690617Z",
     "shell.execute_reply": "2025-08-18T06:07:42.690617Z"
    },
    "id": "fn7-mVsRPiUj",
    "scrolled": true
   },
   "outputs": [
    {
     "data": {
      "text/plain": [
       "0        other\n",
       "1          run\n",
       "2         pass\n",
       "3         pass\n",
       "4          run\n",
       "         ...  \n",
       "49487    other\n",
       "49488    other\n",
       "49489    other\n",
       "49490    other\n",
       "49491      NaN\n",
       "Name: next_play_type, Length: 49492, dtype: category\n",
       "Categories (3, object): ['other', 'pass', 'run']"
      ]
     },
     "execution_count": 5,
     "metadata": {},
     "output_type": "execute_result"
    }
   ],
   "source": [
    "# add next play type by first sorting and grouping\n",
    "play_by_play[\"down_sort\"] = play_by_play[\"down\"].fillna(0)  # NaN downs (kickoffs/returns) become 0\n",
    "play_by_play_sorted = play_by_play.sort_values(\n",
    "    by=[\"game_id\", \"game_seconds_remaining\", \"down_sort\", \"play_id\"],\n",
    "    ascending=[True, False, True, True]\n",
    ").drop(columns=\"down_sort\")\n",
    "\n",
    "# then grouping\n",
    "play_by_play_sorted[\"next_play_type\"] = (\n",
    "    play_by_play_sorted.groupby(\"game_id\")[\"play_type_simple\"]\n",
    "      .shift(-1)   # shift backwards → next row’s play_type\n",
    ")\n",
    "\n",
    "play_by_play_sorted[\"next_play_type\"]"
   ]
  },
  {
   "cell_type": "markdown",
   "metadata": {
    "id": "J2_EIZBxPiUm"
   },
   "source": [
    "<div class=\"alert alert-info\" style=\"background-color:#006a79; color:white; padding:0px 10px; border-radius:5px;\"><h2 style='margin:10px 5px'>Model Building with Feature Engineering</h2>\n",
    "</div>"
   ]
  },
  {
   "cell_type": "code",
   "execution_count": 6,
   "metadata": {
    "execution": {
     "iopub.execute_input": "2025-08-18T06:07:42.690617Z",
     "iopub.status.busy": "2025-08-18T06:07:42.690617Z",
     "iopub.status.idle": "2025-08-18T06:07:42.699220Z",
     "shell.execute_reply": "2025-08-18T06:07:42.699220Z"
    }
   },
   "outputs": [],
   "source": [
    "# Step 0: Drop columns that are IDs, free text, or meaningless at decision time\n",
    "def prepare_next_play_dataset(\n",
    "    df: pd.DataFrame,\n",
    "    id_and_text_drop=None,\n",
    "    run_labels=(\"run\", \"rush\"),   # handle naming differences\n",
    "    pass_labels=(\"pass\",),\n",
    "    game_sort_cols=(\"game_id\", \"game_seconds_remaining\", \"play_id\")\n",
    "):\n",
    "    \"\"\"\n",
    "    Build a leakage-safe dataset for predicting the *next* play (pass/run) by the *same offense*.\n",
    "    Returns: X (features), y (0=run,1=pass), groups (game_id), base_df (cleaned working frame)\n",
    "    \"\"\"\n",
    "\n",
    "    # ---- 0.1 Sort plays within games (descending clock; play_id ensures tie-break)\n",
    "    sort_cols = list(game_sort_cols)\n",
    "    ascending = [True] + [False] * (len(sort_cols) - 1)  # game_id asc, then desc for the rest\n",
    "    df = df.sort_values(sort_cols, ascending=ascending).copy()\n",
    "\n",
    "    # ---- 0.2 Build next-play fields within each game\n",
    "    g = df.groupby(\"game_id\", sort=False)\n",
    "\n",
    "    # Who has the ball next?\n",
    "    df[\"next_posteam\"] = g[\"posteam\"].shift(-1)\n",
    "\n",
    "    # What is the next play type (string) so we can create a label?\n",
    "    # Your data likely has 'play_type_simple' (nflfastR). Adjust here if needed.\n",
    "    next_playtype_col = (\n",
    "        g[\"play_type_simple\"].shift(-1)\n",
    "        if \"play_type_simple\" in df.columns\n",
    "        else g[\"play_type\"].shift(-1)\n",
    "    )\n",
    "    df[\"next_playtype\"] = next_playtype_col.astype(str).str.lower()\n",
    "\n",
    "    # ---- 0.3 Keep only rows where the *same team* will snap the next play\n",
    "    same_team_mask = (df[\"next_posteam\"] == df[\"posteam\"])\n",
    "\n",
    "    # ---- 0.4 Keep only rows where the next play is a pure run or pass\n",
    "    run_set  = set(s.lower() for s in run_labels)\n",
    "    pass_set = set(s.lower() for s in pass_labels)\n",
    "    next_is_run  = df[\"next_playtype\"].isin(run_set)\n",
    "    next_is_pass = df[\"next_playtype\"].isin(pass_set)\n",
    "\n",
    "    keep_mask = same_team_mask & (next_is_run | next_is_pass)\n",
    "\n",
    "    work = df.loc[keep_mask].copy()\n",
    "\n",
    "    # ---- 0.5 Create the binary label for the *next* play\n",
    "    work[\"target_pass_next\"] = (work[\"next_playtype\"].isin(pass_set)).astype(int)\n",
    "\n",
    "    # ---- 0.6 Drop obvious leakage/noise: IDs, free text, timestamps that uniquely ID a play, etc.\n",
    "    default_id_and_text_drop = [\n",
    "        # Free text / near-unique\n",
    "        \"desc\",\n",
    "        # Pure identifiers / hashes\n",
    "        \"old_game_id\", \"play_id\",\n",
    "        # Raw time strings\n",
    "        \"drive_real_start_time\", \"drive_game_clock_start\", \"drive_game_clock_end\",\n",
    "        # Duplicative drive boundary IDs\n",
    "        \"drive_play_id_started\", \"drive_play_id_ended\",\n",
    "    ]\n",
    "    if id_and_text_drop is None:\n",
    "        id_and_text_drop = default_id_and_text_drop\n",
    "    # Drop only if present\n",
    "    to_drop = [c for c in id_and_text_drop if c in work.columns]\n",
    "    if to_drop:\n",
    "        work = work.drop(columns=to_drop)\n",
    "\n",
    "    # ---- 0.7 (Important) Keep game_id for grouping, but exclude it from X later\n",
    "    groups = work[\"game_id\"].copy()\n",
    "\n",
    "    # ---- 0.8 Remove helper/label columns from features\n",
    "    helper_cols = [\"next_posteam\", \"next_playtype\", \"target_pass_next\"]\n",
    "    feature_cols = [c for c in work.columns if c not in (helper_cols + [\"game_id\"])]\n",
    "\n",
    "    # ---- 0.9 Cast object→category (after dropping free text) to help LightGBM\n",
    "    obj_cols = [c for c in feature_cols if work[c].dtype == \"object\"]\n",
    "    for c in obj_cols:\n",
    "        work[c] = work[c].astype(\"category\")\n",
    "\n",
    "    X = work[feature_cols]\n",
    "    y = work[\"target_pass_next\"].astype(int)\n",
    "\n",
    "    return X, y, groups, work"
   ]
  },
  {
   "cell_type": "code",
   "execution_count": 7,
   "metadata": {
    "execution": {
     "iopub.execute_input": "2025-08-18T06:07:42.699220Z",
     "iopub.status.busy": "2025-08-18T06:07:42.699220Z",
     "iopub.status.idle": "2025-08-18T06:07:42.704957Z",
     "shell.execute_reply": "2025-08-18T06:07:42.704957Z"
    }
   },
   "outputs": [],
   "source": [
    "# ===== Step 1: Next-state context (what the OC sees before the next snap) =====\n",
    "def add_next_state_features(work: pd.DataFrame) -> pd.DataFrame:\n",
    "    g = work.groupby(\"game_id\", sort=False)\n",
    "    for col in [\"down\",\"ydstogo\",\"yardline_100\",\"score_differential\",\"wp\"]:\n",
    "        work[f\"next_{col}\"] = g[col].shift(-1)\n",
    "\n",
    "    work[\"next_down_cat\"] = work[\"next_down\"].astype(\"Int64\")\n",
    "    work[\"next_yds_bin\"] = pd.cut(work[\"next_ydstogo\"],\n",
    "                                  bins=[-1,1,3,6,10,15,99],\n",
    "                                  labels=[\"1\",\"2-3\",\"4-6\",\"7-10\",\"11-15\",\"16+\"])\n",
    "    work[\"next_field_zone\"] = pd.cut(work[\"next_yardline_100\"],\n",
    "                                     bins=[-1,20,50,80,100],\n",
    "                                     labels=[\"backed_up\",\"own_half\",\"opp_half\",\"redzone\"])\n",
    "    work[\"next_score_bucket\"] = pd.cut(work[\"next_score_differential\"],\n",
    "                                       bins=[-99,-7,7,99],\n",
    "                                       labels=[\"trailing\",\"close\",\"ahead\"])\n",
    "    work[\"clock_bucket\"] = pd.cut(work[\"game_seconds_remaining\"].fillna(-1),\n",
    "                                  bins=[-1,120,240,600,1800,3600],\n",
    "                                  labels=[\"2min\",\"2-4min\",\"4-10min\",\"10-30min\",\"early\"])\n",
    "    for c in [\"next_down_cat\",\"next_yds_bin\",\"next_field_zone\",\"next_score_bucket\",\"clock_bucket\"]:\n",
    "        work[c] = work[c].astype(\"category\")\n",
    "    return work"
   ]
  },
  {
   "cell_type": "code",
   "execution_count": 8,
   "metadata": {
    "execution": {
     "iopub.execute_input": "2025-08-18T06:07:42.704957Z",
     "iopub.status.busy": "2025-08-18T06:07:42.704957Z",
     "iopub.status.idle": "2025-08-18T06:07:42.716210Z",
     "shell.execute_reply": "2025-08-18T06:07:42.716210Z"
    }
   },
   "outputs": [],
   "source": [
    "def add_short_term_history_features(work: pd.DataFrame) -> pd.DataFrame:\n",
    "    \"\"\"\n",
    "    Leakage-safe short-term history features.\n",
    "    Assumes columns: game_id, posteam, play_type_simple (or play_type),\n",
    "                     success, epa, yards_gained, game_seconds_remaining,\n",
    "                     optional: drive, penalty, penalty_yards, sack, shotgun, no_huddle.\n",
    "    \"\"\"\n",
    "    work = work.copy()\n",
    "\n",
    "    # --- normalize current play type ---\n",
    "    if \"play_type_simple\" in work.columns:\n",
    "        cur_type = work[\"play_type_simple\"].astype(str).str.lower()\n",
    "    else:\n",
    "        cur_type = work.get(\"play_type\", pd.Series(index=work.index, dtype=\"object\")).astype(str).str.lower()\n",
    "\n",
    "    work[\"is_pass_now\"] = (cur_type == \"pass\").astype(int)\n",
    "    work[\"is_run_now\"]  = (cur_type.isin([\"run\", \"rush\"])).astype(int)\n",
    "\n",
    "    # group helpers\n",
    "    g_team_game = work.groupby([\"game_id\", \"posteam\"], sort=False)\n",
    "\n",
    "    # --- recent pass-rate windows (team within game) ---\n",
    "    for w in (3, 5, 10):\n",
    "        work[f\"team_pass_rate_w{w}\"] = g_team_game[\"is_pass_now\"].transform(\n",
    "            lambda s: s.shift(1).rolling(w, min_periods=1).mean()\n",
    "        )\n",
    "\n",
    "    # --- drive-scoped pass-rate windows (use transform to keep index flat) ---\n",
    "    if \"drive\" in work.columns:\n",
    "        g_tg_drive = work.groupby([\"game_id\", \"posteam\", \"drive\"], sort=False)\n",
    "        for w in (3, 5, 10):\n",
    "            work[f\"drive_pass_rate_w{w}\"] = g_tg_drive[\"is_pass_now\"].transform(\n",
    "                lambda s: s.shift(1).rolling(w, min_periods=1).mean()\n",
    "            )\n",
    "\n",
    "    # --- streaks entering the row (consecutive same-type BEFORE this play) ---\n",
    "    def _prior_streak(series: pd.Series) -> pd.Series:\n",
    "        out = np.zeros(len(series), dtype=int)\n",
    "        prev = None\n",
    "        count = 0\n",
    "        vals = series.to_numpy()\n",
    "        for i, v in enumerate(vals):\n",
    "            if prev is None or v != prev:\n",
    "                count = 0\n",
    "            else:\n",
    "                count += 1\n",
    "            out[i] = count\n",
    "            prev = v\n",
    "        return pd.Series(out, index=series.index)\n",
    "\n",
    "    work[\"pass_streak\"] = g_team_game[\"is_pass_now\"].transform(_prior_streak)\n",
    "    work[\"run_streak\"]  = g_team_game[\"is_run_now\"].transform(_prior_streak)\n",
    "\n",
    "    # --- last play outcomes (carryover) ---\n",
    "    work[\"prev_success\"] = g_team_game[\"success\"].shift(1).fillna(0).astype(float)\n",
    "\n",
    "    work[\"prev_epa\"] = g_team_game[\"epa\"].shift(1).astype(float)\n",
    "    work[\"prev_epa_bucket\"] = pd.cut(\n",
    "        work[\"prev_epa\"].fillna(0.0),\n",
    "        bins=[-10, -2.0, -0.5, 0.0, 0.5, 2.0, 10],\n",
    "        labels=[\"catastrophic\",\"bad\",\"minus\",\"neutral\",\"plus\",\"explosive\"]\n",
    "    )\n",
    "\n",
    "    work[\"prev_yards\"] = g_team_game[\"yards_gained\"].shift(1).astype(float)\n",
    "    work[\"prev_yards_bucket\"] = pd.cut(\n",
    "        work[\"prev_yards\"].fillna(0.0),\n",
    "        bins=[-10, -1, 0, 3, 7, 15, 60],\n",
    "        labels=[\"loss\",\"stuffed\",\"no_gain\",\"short\",\"chunk\",\"explosive\"]\n",
    "    )\n",
    "\n",
    "    # penalties: use explicit flag if present, else proxy from penalty_yards\n",
    "    if \"penalty\" in work.columns:\n",
    "        work[\"prev_penalty_flag\"] = g_team_game[\"penalty\"].shift(1).fillna(0).astype(int)\n",
    "    else:\n",
    "        work[\"penalty_proxy\"] = (work.get(\"penalty_yards\", pd.Series(0, index=work.index)).abs() > 0).astype(int)\n",
    "        work[\"prev_penalty_flag\"] = g_team_game[\"penalty_proxy\"].shift(1).fillna(0).astype(int)\n",
    "\n",
    "    if \"sack\" in work.columns:\n",
    "        work[\"prev_sack_flag\"] = g_team_game[\"sack\"].shift(1).fillna(0).astype(int)\n",
    "\n",
    "    # --- tempo / formation carryover ---\n",
    "    work[\"delta_secs_prev\"] = (\n",
    "        g_team_game[\"game_seconds_remaining\"].shift(1) - work[\"game_seconds_remaining\"]\n",
    "    )\n",
    "\n",
    "    work[\"tempo_bucket\"] = pd.cut(\n",
    "        work[\"delta_secs_prev\"].fillna(-1),\n",
    "        bins=[-1, 10, 20, 35, 60, 120, 10000],\n",
    "        labels=[\"hyper\",\"fast\",\"normal\",\"leisurely\",\"slow\",\"stoppage\"]\n",
    "    )\n",
    "\n",
    "    if \"shotgun\" in work.columns:\n",
    "        work[\"shotgun_prev\"] = g_team_game[\"shotgun\"].shift(1).fillna(0).astype(int)\n",
    "    if \"no_huddle\" in work.columns:\n",
    "        work[\"no_huddle_prev\"] = g_team_game[\"no_huddle\"].shift(1).fillna(0).astype(int)\n",
    "\n",
    "    # --- tidy types for buckets only (keep rates as numeric) ---\n",
    "    for c in [\"prev_epa_bucket\", \"prev_yards_bucket\", \"tempo_bucket\"]:\n",
    "        if c in work.columns:\n",
    "            work[c] = work[c].astype(\"category\")\n",
    "\n",
    "    return work"
   ]
  },
  {
   "cell_type": "code",
   "execution_count": 9,
   "metadata": {
    "execution": {
     "iopub.execute_input": "2025-08-18T06:07:42.718224Z",
     "iopub.status.busy": "2025-08-18T06:07:42.718224Z",
     "iopub.status.idle": "2025-08-18T06:07:42.727509Z",
     "shell.execute_reply": "2025-08-18T06:07:42.727509Z"
    }
   },
   "outputs": [],
   "source": [
    "def add_tendency_features(work: pd.DataFrame, k: float = 100.0, league_p: float = None) -> pd.DataFrame:\n",
    "    \"\"\"\n",
    "    Expanding (leakage-safe) tendencies with Bayesian smoothing.\n",
    "    Creates coach/team/defense priors overall, by next down, and (coach) by next distance bin.\n",
    "    Only uses past info: cumulative sums are shifted by 1 (as-of BEFORE current row).\n",
    "    \"\"\"\n",
    "    work = work.copy()\n",
    "\n",
    "    # --- prerequisites / safety ---\n",
    "    if \"is_pass_now\" not in work.columns:\n",
    "        cur_type = work.get(\"play_type_simple\", work.get(\"play_type\", pd.Series(index=work.index, dtype=\"object\"))).astype(str).str.lower()\n",
    "        work[\"is_pass_now\"] = (cur_type == \"pass\").astype(int)\n",
    "\n",
    "    work[\"down_cat_now\"] = work[\"down\"].astype(\"Int64\")\n",
    "\n",
    "    # offense coach on this play\n",
    "    if \"off_coach\" not in work.columns:\n",
    "        if {\"home_team\",\"away_team\",\"home_coach\",\"away_coach\"}.issubset(work.columns):\n",
    "            work[\"off_coach\"] = np.where(work[\"posteam\"] == work[\"home_team\"], work[\"home_coach\"], work[\"away_coach\"])\n",
    "        else:\n",
    "            work[\"off_coach\"] = work.get(\"coach\", pd.Series(\"UNK\", index=work.index))\n",
    "    # NOTE: do NOT fillna in place on Categoricals (causes ValueError); the helper handles it.\n",
    "\n",
    "    # current distance bins (used to build \"as-of\" series; later we pick by NEXT bins)\n",
    "    dist_labels = [\"1\",\"2-3\",\"4-6\",\"7-10\",\"11-15\",\"16+\"]\n",
    "    work[\"yds_bin_now\"] = pd.cut(work[\"ydstogo\"], bins=[-1,1,3,6,10,15,99], labels=dist_labels)\n",
    "\n",
    "    # league prior (ideally compute from train only)\n",
    "    if league_p is None:\n",
    "        league_p = float(work[\"is_pass_now\"].mean())\n",
    "\n",
    "    # Helper: smoothed expanding rate \"as-of BEFORE this row\"\n",
    "    def _smoothed_expanding_for_condition(group_key: pd.Series, cond_bool: pd.Series) -> pd.Series:\n",
    "        # make a local, NA-safe grouping key (object dtype)\n",
    "        gk = pd.Series(group_key, index=work.index)\n",
    "        if str(gk.dtype) == \"category\":\n",
    "            gk = gk.astype(\"object\")\n",
    "        gk = gk.where(~gk.isna(), \"UNK\")\n",
    "\n",
    "        cb = pd.Series(cond_bool, index=work.index).fillna(False).astype(int)\n",
    "\n",
    "        inc = cb\n",
    "        pass_inc = work[\"is_pass_now\"] * inc\n",
    "\n",
    "        cum_n = inc.groupby(gk).cumsum()\n",
    "        cum_p = pass_inc.groupby(gk).cumsum()\n",
    "\n",
    "        cum_n_prev = cum_n.groupby(gk).shift(1).fillna(0.0)\n",
    "        cum_p_prev = cum_p.groupby(gk).shift(1).fillna(0.0)\n",
    "\n",
    "        num = k * league_p + cum_p_prev\n",
    "        den = k + cum_n_prev\n",
    "        return num / den\n",
    "\n",
    "    # --------------------------\n",
    "    # Coach: overall tendency\n",
    "    # --------------------------\n",
    "    work[\"coach_pass_rate_overall\"] = _smoothed_expanding_for_condition(\n",
    "        group_key=work[\"off_coach\"],\n",
    "        cond_bool=pd.Series(True, index=work.index)\n",
    "    )\n",
    "\n",
    "    # --------------------------\n",
    "    # Coach: by NEXT down\n",
    "    # --------------------------\n",
    "    for d in (1,2,3,4):\n",
    "        work[f\"coach_pass_rate_down{d}_asof\"] = _smoothed_expanding_for_condition(\n",
    "            group_key=work[\"off_coach\"],\n",
    "            cond_bool=work[\"down_cat_now\"].eq(d)\n",
    "        )\n",
    "\n",
    "    def _pick_by_next_down(row, prefix):\n",
    "        nd = row.get(\"next_down\")\n",
    "        if pd.isna(nd):\n",
    "            return np.nan\n",
    "        d = int(nd)\n",
    "        return row.get(f\"{prefix}{d}_asof\", np.nan)\n",
    "\n",
    "    work[\"coach_down_pass_rate_next\"] = work.apply(\n",
    "        lambda r: _pick_by_next_down(r, \"coach_pass_rate_down\"), axis=1\n",
    "    )\n",
    "\n",
    "    # --------------------------\n",
    "    # Coach: by NEXT distance bin\n",
    "    # --------------------------\n",
    "    for lab in dist_labels:\n",
    "        work[f\"coach_pass_rate_dist_{lab}_asof\"] = _smoothed_expanding_for_condition(\n",
    "            group_key=work[\"off_coach\"],\n",
    "            cond_bool=work[\"yds_bin_now\"].astype(str).eq(str(lab))\n",
    "        )\n",
    "\n",
    "    def _pick_by_next_dist(row):\n",
    "        lab = row.get(\"next_yds_bin\")\n",
    "        if pd.isna(lab):\n",
    "            return np.nan\n",
    "        return row.get(f\"coach_pass_rate_dist_{str(lab)}_asof\", np.nan)\n",
    "\n",
    "    work[\"coach_dist_pass_rate_next\"] = work.apply(_pick_by_next_dist, axis=1)\n",
    "\n",
    "    # --------------------------\n",
    "    # Team: overall + by NEXT down\n",
    "    # --------------------------\n",
    "    work[\"team_pass_rate_overall\"] = _smoothed_expanding_for_condition(\n",
    "        group_key=work[\"posteam\"],\n",
    "        cond_bool=pd.Series(True, index=work.index)\n",
    "    )\n",
    "    for d in (1,2,3,4):\n",
    "        work[f\"team_pass_rate_down{d}_asof\"] = _smoothed_expanding_for_condition(\n",
    "            group_key=work[\"posteam\"],\n",
    "            cond_bool=work[\"down_cat_now\"].eq(d)\n",
    "        )\n",
    "    work[\"team_down_pass_rate_next\"] = work.apply(\n",
    "        lambda r: _pick_by_next_down(r, \"team_pass_rate_down\"), axis=1\n",
    "    )\n",
    "\n",
    "    # --------------------------\n",
    "    # Defense: overall + by NEXT down\n",
    "    # --------------------------\n",
    "    work[\"def_pass_allowed_overall\"] = _smoothed_expanding_for_condition(\n",
    "        group_key=work[\"defteam\"],\n",
    "        cond_bool=pd.Series(True, index=work.index)\n",
    "    )\n",
    "    for d in (1,2,3,4):\n",
    "        work[f\"def_pass_allowed_down{d}_asof\"] = _smoothed_expanding_for_condition(\n",
    "            group_key=work[\"defteam\"],\n",
    "            cond_bool=work[\"down_cat_now\"].eq(d)\n",
    "        )\n",
    "    work[\"def_down_pass_allowed_next\"] = work.apply(\n",
    "        lambda r: _pick_by_next_down(r, \"def_pass_allowed_down\"), axis=1\n",
    "    )\n",
    "\n",
    "    # (Optional) drop helper columns after inspection:\n",
    "    # work = work.drop(columns=[c for c in work.columns if c.endswith(\"_asof\")])\n",
    "\n",
    "    return work"
   ]
  },
  {
   "cell_type": "code",
   "execution_count": 10,
   "metadata": {
    "execution": {
     "iopub.execute_input": "2025-08-18T06:07:42.729517Z",
     "iopub.status.busy": "2025-08-18T06:07:42.729517Z",
     "iopub.status.idle": "2025-08-18T06:07:42.741066Z",
     "shell.execute_reply": "2025-08-18T06:07:42.741066Z"
    }
   },
   "outputs": [],
   "source": [
    "def add_environment_features(work: pd.DataFrame) -> pd.DataFrame:\n",
    "    \"\"\"\n",
    "    Environment + context features known before the next snap:\n",
    "      - Roof (indoor/outdoor), surface (grass/turf), temp & wind (cleaned + bins), precip flags\n",
    "      - Offense home/away on NEXT snap\n",
    "      - NEXT snap timeouts remaining for offense (and bucket)\n",
    "      - NEXT snap two-minute situation flags (by quarter / by half if available)\n",
    "    Assumes columns may include:\n",
    "      roof, surface, temp, wind, weather, humidity,\n",
    "      game_id, qtr, game_seconds_remaining, half_seconds_remaining,\n",
    "      home_team, away_team, posteam, next_posteam,\n",
    "      home_timeouts_remaining, away_timeouts_remaining\n",
    "    Works gracefully if some columns are missing.\n",
    "    \"\"\"\n",
    "    work = work.copy()\n",
    "\n",
    "    # ---------- 1) Normalize roof / surface ----------\n",
    "    def _norm_roof(s: pd.Series) -> pd.Series:\n",
    "        x = s.astype(str).str.lower()\n",
    "        # nflfastR typically: 'outdoors', 'dome', 'closed'\n",
    "        x = x.replace({\n",
    "            \"na\": np.nan, \"nan\": np.nan, \"none\": np.nan,\n",
    "            \"retractable\": \"closed\", \"open\": \"outdoors\"\n",
    "        })\n",
    "        cat = pd.Series(np.where(x.isin([\"dome\",\"closed\"]), \"indoor\",\n",
    "                         np.where(x.isin([\"outdoor\",\"outdoors\"]), \"outdoor\", \"unknown\")),\n",
    "                        index=s.index)\n",
    "        return cat.astype(\"category\")\n",
    "\n",
    "    def _norm_surface(s: pd.Series) -> pd.Series:\n",
    "        x = s.astype(str).str.lower()\n",
    "        x = x.replace({\"artificial\": \"turf\", \"fieldturf\": \"turf\", \"astroplay\": \"turf\"})\n",
    "        cat = pd.Series(np.where(x.str.contains(\"turf|artificial|astro\", na=False), \"turf\",\n",
    "                         np.where(x.str.contains(\"grass|natural\", na=False), \"grass\", \"unknown\")),\n",
    "                        index=s.index)\n",
    "        return cat.astype(\"category\")\n",
    "\n",
    "    if \"roof\" in work.columns:\n",
    "        work[\"roof_norm\"] = _norm_roof(work[\"roof\"])\n",
    "        work[\"is_indoor\"] = (work[\"roof_norm\"] == \"indoor\").astype(int)\n",
    "\n",
    "    if \"surface\" in work.columns:\n",
    "        work[\"surface_norm\"] = _norm_surface(work[\"surface\"])\n",
    "\n",
    "    # ---------- 2) Clean temp / wind / humidity & make bins ----------\n",
    "    def _to_float(series: pd.Series) -> pd.Series:\n",
    "        # handles numeric, and strings like \"15 mph\", \"8-12\", \"12.5\"\n",
    "        s = series.copy()\n",
    "        if pd.api.types.is_numeric_dtype(s):\n",
    "            return pd.to_numeric(s, errors=\"coerce\")\n",
    "        # extract first float in the string\n",
    "        num = s.astype(str).str.extract(r\"([-+]?\\d*\\.?\\d+)\")[0]\n",
    "        return pd.to_numeric(num, errors=\"coerce\")\n",
    "\n",
    "    if \"temp\" in work.columns:\n",
    "        work[\"temp_f\"] = _to_float(work[\"temp\"])\n",
    "        work[\"temp_bin\"] = pd.cut(\n",
    "            work[\"temp_f\"],\n",
    "            bins=[-50, 32, 50, 70, 85, 150],\n",
    "            labels=[\"freezing\",\"cool\",\"mild\",\"warm\",\"hot\"]\n",
    "        ).astype(\"category\")\n",
    "\n",
    "    # wind sometimes already numeric in nflfastR; still safe\n",
    "    if \"wind\" in work.columns:\n",
    "        work[\"wind_mph\"] = _to_float(work[\"wind\"])\n",
    "        work[\"wind_bin\"] = pd.cut(\n",
    "            work[\"wind_mph\"],\n",
    "            bins=[-1, 5, 15, 50],\n",
    "            labels=[\"calm\",\"breezy\",\"windy\"]\n",
    "        ).astype(\"category\")\n",
    "        work[\"is_windy\"] = (work[\"wind_mph\"] >= 15).astype(int)\n",
    "\n",
    "    if \"humidity\" in work.columns:\n",
    "        work[\"humidity_pct\"] = _to_float(work[\"humidity\"])\n",
    "        work[\"humidity_bin\"] = pd.cut(\n",
    "            work[\"humidity_pct\"], bins=[-1, 40, 60, 100], labels=[\"dry\",\"normal\",\"humid\"]\n",
    "        ).astype(\"category\")\n",
    "\n",
    "    # precipitation flags from free-text weather, if present\n",
    "    if \"weather\" in work.columns:\n",
    "        wtxt = work[\"weather\"].astype(str).str.lower()\n",
    "        work[\"precip_flag\"] = wtxt.str.contains(\n",
    "            r\"rain|drizzle|shower|storm|thunder|hail|sleet\", regex=True, na=False\n",
    "        ).astype(int)\n",
    "        work[\"snow_flag\"] = wtxt.str.contains(r\"snow|flurr\", regex=True, na=False).astype(int)\n",
    "        work[\"fog_flag\"]  = wtxt.str.contains(r\"fog\", regex=True, na=False).astype(int)\n",
    "\n",
    "    # If indoor, wind doesn't affect ball flight; keep both raw & interaction if you like\n",
    "    if \"is_indoor\" in work.columns and \"is_windy\" in work.columns:\n",
    "        work[\"windy_outdoor\"] = ((work[\"is_indoor\"] == 0) & (work[\"is_windy\"] == 1)).astype(int)\n",
    "\n",
    "    # ---------- 3) NEXT-snap timeouts & home/away for offense ----------\n",
    "    g = work.groupby(\"game_id\", sort=False)\n",
    "\n",
    "    # next_qtr / next_game_seconds for two-minute logic (also handy generally)\n",
    "    if \"qtr\" in work.columns:\n",
    "        work[\"next_qtr\"] = g[\"qtr\"].shift(-1)\n",
    "    if \"game_seconds_remaining\" in work.columns:\n",
    "        work[\"next_game_seconds_remaining\"] = g[\"game_seconds_remaining\"].shift(-1)\n",
    "    if \"half_seconds_remaining\" in work.columns:\n",
    "        work[\"next_half_seconds_remaining\"] = g[\"half_seconds_remaining\"].shift(-1)\n",
    "\n",
    "    # Who is on offense next? (you should already have next_posteam from Step 0)\n",
    "    if \"next_posteam\" not in work.columns:\n",
    "        work[\"next_posteam\"] = g[\"posteam\"].shift(-1)\n",
    "\n",
    "    # Is that offense the home team on next snap?\n",
    "    if {\"home_team\",\"away_team\"}.issubset(work.columns):\n",
    "        work[\"is_home_offense_next\"] = np.where(\n",
    "            work[\"next_posteam\"] == work[\"home_team\"], 1,\n",
    "            np.where(work[\"next_posteam\"] == work[\"away_team\"], 0, np.nan))\n",
    "\n",
    "    # Next-snap timeouts for the offense\n",
    "    if {\"home_timeouts_remaining\",\"away_timeouts_remaining\",\"home_team\",\"away_team\"}.issubset(work.columns):\n",
    "        next_home_to = g[\"home_timeouts_remaining\"].shift(-1)\n",
    "        next_away_to = g[\"away_timeouts_remaining\"].shift(-1)\n",
    "        work[\"next_off_timeouts\"] = np.where(\n",
    "            work[\"next_posteam\"] == work[\"home_team\"], next_home_to,\n",
    "            np.where(work[\"next_posteam\"] == work[\"away_team\"], next_away_to, np.nan)\n",
    "        )\n",
    "        work[\"next_off_timeouts_bucket\"] = pd.Categorical(\n",
    "            pd.cut(work[\"next_off_timeouts\"], bins=[-1,0,1,2,3], labels=[\"0\",\"1\",\"2\",\"3\"])\n",
    "        )\n",
    "\n",
    "    # ---------- 4) Two-minute situation on NEXT snap ----------\n",
    "    # by quarter: final 2:00 of Q2 and Q4\n",
    "    if {\"next_qtr\",\"next_game_seconds_remaining\"}.issubset(work.columns):\n",
    "        # seconds remaining in quarter isn’t directly present; approximate via mod 900 if needed.\n",
    "        # When only game_seconds_remaining exists, a simple and still useful flag is:\n",
    "        # - Q2: GSR in (1800..3600] → two-minute when GSR % 1800 <= 120\n",
    "        # - Q4: GSR in (0..1800]    → two-minute when GSR % 1800 <= 120\n",
    "        gsr = work[\"next_game_seconds_remaining\"]\n",
    "        nq = work[\"next_qtr\"]\n",
    "        # modulo within half (each half is 1800s)\n",
    "        within_half = (gsr % 1800).astype(float)\n",
    "        work[\"two_minute_next_qtr\"] = (\n",
    "            (nq.isin([2,4])) & (within_half <= 120)\n",
    "        ).astype(int)\n",
    "\n",
    "    # by half if we have it precisely\n",
    "    if \"next_half_seconds_remaining\" in work.columns:\n",
    "        work[\"two_minute_next_half\"] = (work[\"next_half_seconds_remaining\"] <= 120).astype(int)\n",
    "\n",
    "    # ---------- 5) Cast buckets to category ----------\n",
    "    for c in [\"temp_bin\",\"wind_bin\",\"humidity_bin\",\"next_off_timeouts_bucket\"]:\n",
    "        if c in work.columns:\n",
    "            work[c] = work[c].astype(\"category\")\n",
    "\n",
    "    # Keep raw numerics for models that benefit from continuous inputs\n",
    "    return work"
   ]
  },
  {
   "cell_type": "code",
   "execution_count": 11,
   "metadata": {
    "execution": {
     "iopub.execute_input": "2025-08-18T06:07:42.742806Z",
     "iopub.status.busy": "2025-08-18T06:07:42.742806Z",
     "iopub.status.idle": "2025-08-18T06:07:42.750099Z",
     "shell.execute_reply": "2025-08-18T06:07:42.750099Z"
    }
   },
   "outputs": [],
   "source": [
    "def select_features_for_model(\n",
    "    work: pd.DataFrame,\n",
    "    target_col: str = \"target_pass_next\",\n",
    "    drop_raw_team_ids: bool = True,\n",
    "    missing_frac_thresh: float = 0.98,   # drop if >= 98% missing\n",
    "    high_card_thresh: int = 200,         # drop object/cat with >200 unique values\n",
    "    low_var_thresh: float = 1e-9         # drop numeric with ~zero variance\n",
    "):\n",
    "    \"\"\"\n",
    "    Prune unhelpful columns and return X, y, feature_cols, and a summary dict.\n",
    "    Assumes `work` already contains Steps 0-4 features.\n",
    "    \"\"\"\n",
    "    df = work.copy()\n",
    "\n",
    "    # 1) Always-drop helpers/labels/IDs/free text\n",
    "    always_drop = set([\n",
    "        target_col, \"game_id\", \"next_playtype\", \"next_posteam\",  # helpers/label bits\n",
    "        \"old_game_id\", \"play_id\", \"desc\",                        # IDs/text\n",
    "        \"drive_real_start_time\",\"drive_game_clock_start\",\"drive_game_clock_end\",\n",
    "        \"drive_play_id_started\",\"drive_play_id_ended\",\n",
    "        \"game_date\",\"game_clock\",\"play_clock\"  # if present as strings\n",
    "    ]) & set(df.columns)\n",
    "\n",
    "    # 2) Optional: drop raw team/coach IDs (we have smoothed tendencies already)\n",
    "    raw_ids = set([\n",
    "        \"posteam\",\"defteam\",\"home_team\",\"away_team\",\n",
    "        \"home_coach\",\"away_coach\",\"off_coach\"\n",
    "    ]) & set(df.columns)\n",
    "    if drop_raw_team_ids:\n",
    "        always_drop |= raw_ids\n",
    "\n",
    "    # 3) Leakage guard: drop any accidental \"next_*\" that isn’t on our whitelist\n",
    "    next_whitelist = {\n",
    "        \"next_down\",\"next_ydstogo\",\"next_yardline_100\",\"next_score_differential\",\"next_wp\",\n",
    "        \"next_down_cat\",\"next_yds_bin\",\"next_field_zone\",\"next_score_bucket\",\n",
    "        \"next_qtr\",\"next_game_seconds_remaining\",\"next_half_seconds_remaining\",\n",
    "        \"next_off_timeouts\",\"next_off_timeouts_bucket\"\n",
    "    }\n",
    "    next_cols = {c for c in df.columns if c.startswith(\"next_\")}\n",
    "    leak_next = next_cols - next_whitelist\n",
    "    always_drop |= leak_next\n",
    "\n",
    "    # 4) High-missing columns\n",
    "    missing_frac = df.isna().mean()\n",
    "    drop_missing = set(missing_frac[missing_frac >= missing_frac_thresh].index)\n",
    "\n",
    "    # 5) Low-variance numeric columns\n",
    "    num_cols = df.select_dtypes(include=[np.number]).columns\n",
    "    near_const = set()\n",
    "    for c in num_cols:\n",
    "        s = df[c]\n",
    "        # treat NaNs as ignorable; check variance on non-nans\n",
    "        vals = s.dropna()\n",
    "        if vals.empty or vals.nunique() <= 1 or float(vals.var()) <= low_var_thresh:\n",
    "            near_const.add(c)\n",
    "\n",
    "    # 6) High-cardinality object/categorical columns (whitelist engineered buckets)\n",
    "    whitelist_smallcats = {\n",
    "        \"next_down_cat\",\"next_yds_bin\",\"next_field_zone\",\"next_score_bucket\",\"clock_bucket\",\n",
    "        \"prev_epa_bucket\",\"prev_yards_bucket\",\"tempo_bucket\",\n",
    "        \"temp_bin\",\"wind_bin\",\"humidity_bin\",\n",
    "        \"roof_norm\",\"surface_norm\",\"is_indoor\",\"is_windy\",\"windy_outdoor\",\n",
    "        \"is_home_offense_next\",\"next_off_timeouts_bucket\"\n",
    "    }\n",
    "    obj_cat_cols = df.select_dtypes(include=[\"object\",\"category\"]).columns\n",
    "    high_card = set()\n",
    "    for c in obj_cat_cols:\n",
    "        if c in whitelist_smallcats:\n",
    "            continue\n",
    "        nunq = df[c].nunique(dropna=True)\n",
    "        if nunq > high_card_thresh:\n",
    "            high_card.add(c)\n",
    "\n",
    "    # 7) Build final drop set\n",
    "    drop_cols = (always_drop | drop_missing | near_const | high_card) & set(df.columns)\n",
    "\n",
    "    # 8) Final feature list\n",
    "    feature_cols = [c for c in df.columns if c not in drop_cols]\n",
    "\n",
    "    # LightGBM likes categories; ensure category dtype for our bucket cols\n",
    "    cat_cols = df[feature_cols].select_dtypes(include=\"object\").columns\n",
    "    for c in cat_cols:\n",
    "        df[c] = df[c].astype(\"category\")\n",
    "\n",
    "    X = df[feature_cols]\n",
    "    y = df[target_col].astype(int)\n",
    "\n",
    "    summary = {\n",
    "        \"dropped_total\": len(drop_cols),\n",
    "        \"dropped_helpers\": sorted(always_drop & set(df.columns)),\n",
    "        \"dropped_missing\": sorted(drop_missing),\n",
    "        \"dropped_low_variance\": sorted(near_const),\n",
    "        \"dropped_high_cardinality\": sorted(high_card),\n",
    "        \"n_features_final\": len(feature_cols)\n",
    "    }\n",
    "    return X, y, feature_cols, summary"
   ]
  },
  {
   "cell_type": "code",
   "execution_count": 12,
   "metadata": {
    "execution": {
     "iopub.execute_input": "2025-08-18T06:07:42.752105Z",
     "iopub.status.busy": "2025-08-18T06:07:42.752105Z",
     "iopub.status.idle": "2025-08-18T06:07:53.262398Z",
     "shell.execute_reply": "2025-08-18T06:07:53.262060Z"
    }
   },
   "outputs": [
    {
     "name": "stdout",
     "output_type": "stream",
     "text": [
      "Dropped 149 columns. Final feature count: 299\n"
     ]
    }
   ],
   "source": [
    "# ---- Step 0\n",
    "X0, y0, groups0, work = prepare_next_play_dataset(play_by_play)   # df = your play-by-play DataFrame\n",
    "\n",
    "# ---- Step 1\n",
    "work = add_next_state_features(work)\n",
    "\n",
    "# ---- Step 2\n",
    "work = add_short_term_history_features(work)\n",
    "\n",
    "# ---- Step 3\n",
    "work = add_tendency_features(work, k=100.0)\n",
    "\n",
    "# ---- Step 4\n",
    "work = add_environment_features(work)\n",
    "\n",
    "# ---- Step 5: pruning + feature list\n",
    "X_all, y_all, feature_cols, drop_summary = select_features_for_model(\n",
    "    work,\n",
    "    drop_raw_team_ids=True,          # try True first; you can toggle later\n",
    "    missing_frac_thresh=0.98,\n",
    "    high_card_thresh=200,\n",
    "    low_var_thresh=1e-9\n",
    ")\n",
    "\n",
    "print(\"Dropped\", drop_summary[\"dropped_total\"], \"columns. Final feature count:\", drop_summary[\"n_features_final\"])"
   ]
  },
  {
   "cell_type": "code",
   "execution_count": 13,
   "metadata": {
    "execution": {
     "iopub.execute_input": "2025-08-18T06:07:53.264383Z",
     "iopub.status.busy": "2025-08-18T06:07:53.264383Z",
     "iopub.status.idle": "2025-08-18T06:07:53.267649Z",
     "shell.execute_reply": "2025-08-18T06:07:53.267649Z"
    }
   },
   "outputs": [],
   "source": [
    "def group_train_val_test_split(groups: pd.Series, test_size=0.2, val_size=0.2, random_state=42):\n",
    "    \"\"\"\n",
    "    Group (by game_id) split into train/val/test without leakage.\n",
    "    Returns: (train_idx, val_idx, test_idx)\n",
    "    \"\"\"\n",
    "    gss = GroupShuffleSplit(n_splits=1, test_size=test_size, random_state=random_state)\n",
    "    # First split off test\n",
    "    all_idx = np.arange(len(groups))\n",
    "    trainval_idx, test_idx = next(gss.split(all_idx, groups=groups))\n",
    "\n",
    "    # Now split train/val within the remaining pool\n",
    "    gss_inner = GroupShuffleSplit(n_splits=1, test_size=val_size, random_state=random_state)\n",
    "    train_idx, val_idx = next(gss_inner.split(trainval_idx, groups=groups.iloc[trainval_idx]))\n",
    "\n",
    "    # Map inner indices back to absolute indices\n",
    "    train_idx = trainval_idx[train_idx]\n",
    "    val_idx   = trainval_idx[val_idx]\n",
    "\n",
    "    return train_idx, val_idx, test_idx"
   ]
  },
  {
   "cell_type": "code",
   "execution_count": 14,
   "metadata": {
    "execution": {
     "iopub.execute_input": "2025-08-18T06:07:53.269366Z",
     "iopub.status.busy": "2025-08-18T06:07:53.269366Z",
     "iopub.status.idle": "2025-08-18T06:07:55.247497Z",
     "shell.execute_reply": "2025-08-18T06:07:55.247497Z"
    }
   },
   "outputs": [
    {
     "name": "stdout",
     "output_type": "stream",
     "text": [
      "[LightGBM] [Info] Number of positive: 10045, number of negative: 7118\n",
      "[LightGBM] [Info] Auto-choosing col-wise multi-threading, the overhead of testing was 0.012833 seconds.\n",
      "You can set `force_col_wise=true` to remove the overhead.\n",
      "[LightGBM] [Info] Total Bins 27888\n",
      "[LightGBM] [Info] Number of data points in the train set: 17163, number of used features: 296\n",
      "[LightGBM] [Info] [binary:BoostFromScore]: pavg=0.585271 -> initscore=0.344448\n",
      "[LightGBM] [Info] Start training from score 0.344448\n",
      "Training until validation scores don't improve for 100 rounds\n"
     ]
    },
    {
     "name": "stdout",
     "output_type": "stream",
     "text": [
      "[50]\tvalid_0's binary_logloss: 0.57353\n"
     ]
    },
    {
     "name": "stdout",
     "output_type": "stream",
     "text": [
      "[100]\tvalid_0's binary_logloss: 0.566338\n"
     ]
    },
    {
     "name": "stdout",
     "output_type": "stream",
     "text": [
      "[150]\tvalid_0's binary_logloss: 0.565212\n"
     ]
    },
    {
     "name": "stdout",
     "output_type": "stream",
     "text": [
      "[200]\tvalid_0's binary_logloss: 0.565352\n"
     ]
    },
    {
     "name": "stdout",
     "output_type": "stream",
     "text": [
      "[250]\tvalid_0's binary_logloss: 0.567273\n",
      "Early stopping, best iteration is:\n",
      "[166]\tvalid_0's binary_logloss: 0.565107\n",
      "Best iteration: 166\n",
      "\n",
      "=== Validation ===\n",
      "Accuracy: 0.7085 | LogLoss: 0.5651 | AUC: 0.7677 | Brier: 0.1915\n",
      "Confusion matrix [[TN FP],[FN TP]]:\n",
      " [[1123  664]\n",
      " [ 596 1939]]\n",
      "\n",
      "=== Test ===\n",
      "Accuracy: 0.7006 | LogLoss: 0.5659 | AUC: 0.7635 | Brier: 0.1923\n",
      "Confusion matrix [[TN FP],[FN TP]]:\n",
      " [[1335  853]\n",
      " [ 768 2458]]\n",
      "\n",
      "Classification report (Test):\n"
     ]
    },
    {
     "name": "stdout",
     "output_type": "stream",
     "text": [
      "              precision    recall  f1-score   support\n",
      "\n",
      "           0       0.63      0.61      0.62      2188\n",
      "           1       0.74      0.76      0.75      3226\n",
      "\n",
      "    accuracy                           0.70      5414\n",
      "   macro avg       0.69      0.69      0.69      5414\n",
      "weighted avg       0.70      0.70      0.70      5414\n",
      "\n",
      "\n",
      "Top features by GAIN:\n",
      " epa                            13974.743148\n",
      "xpass                           7272.291310\n",
      "side_of_field                   4948.932336\n",
      "stadium                         3615.663774\n",
      "next_ydstogo                    3019.286475\n",
      "passer                          2557.734698\n",
      "half_seconds_remaining          2370.182030\n",
      "solo_tackle_1_team              2275.788968\n",
      "def_wp                          2271.823564\n",
      "pass_oe                         1827.045866\n",
      "wp                              1690.173710\n",
      "passer_player_id                1610.873110\n",
      "series_result                   1606.901433\n",
      "next_wp                         1374.960288\n",
      "coach_dist_pass_rate_next       1352.785792\n",
      "next_half_seconds_remaining     1144.079252\n",
      "next_yardline_100               1076.099418\n",
      "next_down                       1060.254475\n",
      "down                             924.274721\n",
      "vegas_wpa                        908.457454\n",
      "def_down_pass_allowed_next       871.411023\n",
      "td_prob                          791.650863\n",
      "drive_end_transition             777.469310\n",
      "no_score_prob                    736.446972\n",
      "coach_down_pass_rate_next        723.780717\n",
      "assist_tackle_1_team             654.171864\n",
      "rushing_yards                    643.173314\n",
      "ep                               597.964406\n",
      "yards_gained                     567.136584\n",
      "prev_epa                         534.932029\n",
      "dtype: float64\n",
      "\n",
      "Top features by SPLIT:\n",
      " side_of_field                  348\n",
      "stadium                        249\n",
      "solo_tackle_1_team             157\n",
      "xpass                          149\n",
      "passer                         145\n",
      "epa                            131\n",
      "next_ydstogo                   124\n",
      "pass_oe                        109\n",
      "passer_player_id                93\n",
      "next_wp                         79\n",
      "next_yardline_100               77\n",
      "coach_dist_pass_rate_next       77\n",
      "def_down_pass_allowed_next      76\n",
      "coach_down_pass_rate_next       67\n",
      "next_half_seconds_remaining     65\n",
      "vegas_wpa                       64\n",
      "td_prob                         63\n",
      "drive_end_transition            55\n",
      "wp                              54\n",
      "vegas_home_wpa                  53\n",
      "assist_tackle_1_team            51\n",
      "prev_epa                        50\n",
      "def_wp                          50\n",
      "delta_secs_prev                 48\n",
      "half_seconds_remaining          48\n",
      "ep                              46\n",
      "yards_gained                    44\n",
      "quarter_seconds_remaining       44\n",
      "ydsnet                          43\n",
      "down                            43\n",
      "dtype: int32\n"
     ]
    }
   ],
   "source": [
    "groups = work.loc[X_all.index, \"game_id\"]\n",
    "train_idx, val_idx, test_idx = group_train_val_test_split(groups, test_size=0.2, val_size=0.2, random_state=42)\n",
    "\n",
    "X_train_raw, y_train = X_all.iloc[train_idx].copy(), y_all.iloc[train_idx].copy()\n",
    "X_val_raw,   y_val   = X_all.iloc[val_idx].copy(),   y_all.iloc[val_idx].copy()\n",
    "X_test_raw,  y_test  = X_all.iloc[test_idx].copy(),  y_all.iloc[test_idx].copy()\n",
    "\n",
    "# ---- (C) Categorical handling (your preferred style)\n",
    "# cast object→category\n",
    "for df_split in (X_train_raw, X_val_raw, X_test_raw):\n",
    "    obj_cols = df_split.select_dtypes(include=[\"object\"]).columns\n",
    "    for c in obj_cols:\n",
    "        df_split[c] = df_split[c].astype(\"category\")\n",
    "\n",
    "# keep names for LightGBM\n",
    "categorical_cols = list(X_train_raw.select_dtypes(include=[\"category\"]).columns)\n",
    "\n",
    "# OPTIONAL (safer): align category levels across splits to the UNION of categories seen\n",
    "for c in categorical_cols:\n",
    "    cats = (\n",
    "        X_train_raw[c].astype(\"category\").cat.categories\n",
    "        .union(X_val_raw[c].astype(\"category\").cat.categories)\n",
    "        .union(X_test_raw[c].astype(\"category\").cat.categories)\n",
    "    )\n",
    "    X_train_raw[c] = X_train_raw[c].astype(\"category\").cat.set_categories(cats)\n",
    "    X_val_raw[c]   = X_val_raw[c].astype(\"category\").cat.set_categories(cats)\n",
    "    X_test_raw[c]  = X_test_raw[c].astype(\"category\").cat.set_categories(cats)\n",
    "\n",
    "# ---- (D) Train with early stopping (eval on VALIDATION, not test)\n",
    "clf = LGBMClassifier(\n",
    "    n_estimators=2000,\n",
    "    learning_rate=0.05,\n",
    "    num_leaves=31,\n",
    "    random_state=42,\n",
    "    n_jobs=-1\n",
    ")\n",
    "\n",
    "clf.fit(\n",
    "    X_train_raw, y_train,\n",
    "    eval_set=[(X_val_raw, y_val)],          # <-- validation set for early stopping\n",
    "    eval_metric=\"logloss\",\n",
    "    categorical_feature=categorical_cols,\n",
    "    callbacks=[early_stopping(100), log_evaluation(50)]\n",
    ")\n",
    "\n",
    "best_iter = clf.best_iteration_\n",
    "print(\"Best iteration:\", best_iter)\n",
    "\n",
    "# ---- (E) Evaluate: validation + held-out test\n",
    "def evaluate_split(name, X, y, model, thr=0.5):\n",
    "    proba = model.predict_proba(X, num_iteration=best_iter)[:, 1]\n",
    "    pred  = (proba >= thr).astype(int)\n",
    "    acc   = accuracy_score(y, pred)\n",
    "    ll    = log_loss(y, proba, labels=[0,1])\n",
    "    auc   = roc_auc_score(y, proba)\n",
    "    brier = brier_score_loss(y, proba)\n",
    "    cm    = confusion_matrix(y, pred, labels=[0,1])\n",
    "    print(f\"\\n=== {name} ===\")\n",
    "    print(f\"Accuracy: {acc:.4f} | LogLoss: {ll:.4f} | AUC: {auc:.4f} | Brier: {brier:.4f}\")\n",
    "    print(\"Confusion matrix [[TN FP],[FN TP]]:\\n\", cm)\n",
    "    return proba, pred\n",
    "\n",
    "_ = evaluate_split(\"Validation\", X_val_raw,  y_val,  clf)\n",
    "_ = evaluate_split(\"Test\",        X_test_raw, y_test, clf)\n",
    "\n",
    "print(\"\\nClassification report (Test):\")\n",
    "print(classification_report(y_test, (clf.predict_proba(X_test_raw, num_iteration=best_iter)[:,1] >= 0.5).astype(int)))\n",
    "\n",
    "# ---- (F) Feature importance (top 30)\n",
    "import pandas as pd\n",
    "gain_imp  = pd.Series(clf.booster_.feature_importance(importance_type=\"gain\"),  index=X_train_raw.columns).sort_values(ascending=False)\n",
    "split_imp = pd.Series(clf.booster_.feature_importance(importance_type=\"split\"), index=X_train_raw.columns).sort_values(ascending=False)\n",
    "\n",
    "print(\"\\nTop features by GAIN:\\n\",  gain_imp.head(30))\n",
    "print(\"\\nTop features by SPLIT:\\n\", split_imp.head(30))"
   ]
  },
  {
   "cell_type": "markdown",
   "metadata": {
    "id": "VxKiaua0PiUo"
   },
   "source": [
    "<div class=\"alert alert-info\" style=\"background-color:#006a79; color:white; padding:0px 10px; border-radius:5px;\"><h2 style='margin:10px 5px'>Fix Overfitting</h2>\n",
    "</div>"
   ]
  },
  {
   "cell_type": "code",
   "execution_count": 15,
   "metadata": {
    "execution": {
     "iopub.execute_input": "2025-08-18T06:07:55.249493Z",
     "iopub.status.busy": "2025-08-18T06:07:55.249493Z",
     "iopub.status.idle": "2025-08-18T06:08:00.723413Z",
     "shell.execute_reply": "2025-08-18T06:08:00.723413Z"
    },
    "scrolled": true
   },
   "outputs": [
    {
     "name": "stdout",
     "output_type": "stream",
     "text": [
      "[LightGBM] [Info] Number of positive: 10045, number of negative: 7118\n",
      "[LightGBM] [Info] Auto-choosing col-wise multi-threading, the overhead of testing was 0.015330 seconds.\n",
      "You can set `force_col_wise=true` to remove the overhead.\n",
      "[LightGBM] [Info] Total Bins 27888\n",
      "[LightGBM] [Info] Number of data points in the train set: 17163, number of used features: 296\n",
      "[LightGBM] [Info] [binary:BoostFromScore]: pavg=0.585271 -> initscore=0.344448\n",
      "[LightGBM] [Info] Start training from score 0.344448\n",
      "Training until validation scores don't improve for 100 rounds\n"
     ]
    },
    {
     "name": "stdout",
     "output_type": "stream",
     "text": [
      "[50]\tvalid_0's binary_logloss: 0.57353\n"
     ]
    },
    {
     "name": "stdout",
     "output_type": "stream",
     "text": [
      "[100]\tvalid_0's binary_logloss: 0.566338\n"
     ]
    },
    {
     "name": "stdout",
     "output_type": "stream",
     "text": [
      "[150]\tvalid_0's binary_logloss: 0.565212\n"
     ]
    },
    {
     "name": "stdout",
     "output_type": "stream",
     "text": [
      "[200]\tvalid_0's binary_logloss: 0.565352\n"
     ]
    },
    {
     "name": "stdout",
     "output_type": "stream",
     "text": [
      "[250]\tvalid_0's binary_logloss: 0.567273\n",
      "Early stopping, best iteration is:\n",
      "[166]\tvalid_0's binary_logloss: 0.565107\n"
     ]
    },
    {
     "name": "stdout",
     "output_type": "stream",
     "text": [
      "\n",
      "=== baseline ===\n",
      "Val:  acc 0.7103 | logloss 0.5651 | AUC 0.7677 | Brier 0.1915 | thr 0.480\n",
      "Test: acc 0.6971 | logloss 0.5659 | AUC 0.7635 | Brier 0.1923 | thr 0.480\n"
     ]
    },
    {
     "name": "stdout",
     "output_type": "stream",
     "text": [
      "[LightGBM] [Info] Number of positive: 10045, number of negative: 7118\n",
      "[LightGBM] [Info] Auto-choosing col-wise multi-threading, the overhead of testing was 0.015160 seconds.\n",
      "You can set `force_col_wise=true` to remove the overhead.\n",
      "[LightGBM] [Info] Total Bins 27196\n",
      "[LightGBM] [Info] Number of data points in the train set: 17163, number of used features: 268\n",
      "[LightGBM] [Info] [binary:BoostFromScore]: pavg=0.585271 -> initscore=0.344448\n",
      "[LightGBM] [Info] Start training from score 0.344448\n",
      "Training until validation scores don't improve for 100 rounds\n"
     ]
    },
    {
     "name": "stdout",
     "output_type": "stream",
     "text": [
      "[50]\tvalid_0's binary_logloss: 0.571169\n"
     ]
    },
    {
     "name": "stdout",
     "output_type": "stream",
     "text": [
      "[100]\tvalid_0's binary_logloss: 0.565128\n",
      "[150]\tvalid_0's binary_logloss: 0.563892\n"
     ]
    },
    {
     "name": "stdout",
     "output_type": "stream",
     "text": [
      "[200]\tvalid_0's binary_logloss: 0.565176\n",
      "Early stopping, best iteration is:\n",
      "[144]\tvalid_0's binary_logloss: 0.563624\n"
     ]
    },
    {
     "name": "stdout",
     "output_type": "stream",
     "text": [
      "\n",
      "=== no_players_stadium ===\n",
      "Val:  acc 0.7122 | logloss 0.5636 | AUC 0.7702 | Brier 0.1908 | thr 0.485\n",
      "Test: acc 0.7041 | logloss 0.5658 | AUC 0.7639 | Brier 0.1922 | thr 0.485\n"
     ]
    },
    {
     "name": "stdout",
     "output_type": "stream",
     "text": [
      "[LightGBM] [Info] Number of positive: 10045, number of negative: 7118\n",
      "[LightGBM] [Info] Auto-choosing col-wise multi-threading, the overhead of testing was 0.013899 seconds.\n",
      "You can set `force_col_wise=true` to remove the overhead.\n",
      "[LightGBM] [Info] Total Bins 26686\n",
      "[LightGBM] [Info] Number of data points in the train set: 17163, number of used features: 266\n",
      "[LightGBM] [Info] [binary:BoostFromScore]: pavg=0.585271 -> initscore=0.344448\n",
      "[LightGBM] [Info] Start training from score 0.344448\n",
      "Training until validation scores don't improve for 100 rounds\n"
     ]
    },
    {
     "name": "stdout",
     "output_type": "stream",
     "text": [
      "[50]\tvalid_0's binary_logloss: 0.574042\n"
     ]
    },
    {
     "name": "stdout",
     "output_type": "stream",
     "text": [
      "[100]\tvalid_0's binary_logloss: 0.566775\n"
     ]
    },
    {
     "name": "stdout",
     "output_type": "stream",
     "text": [
      "[150]\tvalid_0's binary_logloss: 0.565488\n",
      "[200]\tvalid_0's binary_logloss: 0.56636\n"
     ]
    },
    {
     "name": "stdout",
     "output_type": "stream",
     "text": [
      "[250]\tvalid_0's binary_logloss: 0.567414\n",
      "Early stopping, best iteration is:\n",
      "[163]\tvalid_0's binary_logloss: 0.564782\n"
     ]
    },
    {
     "name": "stdout",
     "output_type": "stream",
     "text": [
      "\n",
      "=== no_players_stadium_no_xpass ===\n",
      "Val:  acc 0.7043 | logloss 0.5648 | AUC 0.7682 | Brier 0.1914 | thr 0.445\n",
      "Test: acc 0.6976 | logloss 0.5689 | AUC 0.7611 | Brier 0.1932 | thr 0.445\n",
      "\n",
      "Best by Val AUC: no_players_stadium {'thr': 0.485, 'acc': 0.7121702915316983, 'logloss': 0.5636243726377981, 'auc': 0.7701994130301134, 'brier': 0.19080175024358725}\n"
     ]
    }
   ],
   "source": [
    "# Recompute groups aligned to X_all (from select_features_for_model)\n",
    "groups = work.loc[X_all.index, \"game_id\"]\n",
    "\n",
    "# --- helper: cast object->category and align categories across splits\n",
    "def prepare_cats(Xtr, Xva, Xte):\n",
    "    for df_split in (Xtr, Xva, Xte):\n",
    "        obj_cols = df_split.select_dtypes(include=[\"object\"]).columns\n",
    "        for c in obj_cols:\n",
    "            df_split[c] = df_split[c].astype(\"category\")\n",
    "    categorical_cols = list(Xtr.select_dtypes(include=[\"category\"]).columns)\n",
    "    for c in categorical_cols:\n",
    "        cats = (\n",
    "            Xtr[c].cat.categories\n",
    "            .union(Xva[c].cat.categories)\n",
    "            .union(Xte[c].cat.categories)\n",
    "        )\n",
    "        Xtr[c] = Xtr[c].cat.set_categories(cats)\n",
    "        Xva[c] = Xva[c].cat.set_categories(cats)\n",
    "        Xte[c] = Xte[c].cat.set_categories(cats)\n",
    "    return categorical_cols\n",
    "\n",
    "# --- helper: find best threshold on validation for accuracy (change metric if you like)\n",
    "def best_threshold(y_true, proba):\n",
    "    thr_grid = np.linspace(0.3, 0.7, 81)  # 0.3 .. 0.7 step 0.005\n",
    "    accs = [(thr, accuracy_score(y_true, (proba >= thr).astype(int))) for thr in thr_grid]\n",
    "    thr, acc = max(accs, key=lambda t: t[1])\n",
    "    return thr, acc\n",
    "\n",
    "def train_eval_variant(name, keep_cols):\n",
    "    # Split (reuse your grouped splitter)\n",
    "    train_idx, val_idx, test_idx = group_train_val_test_split(groups, test_size=0.2, val_size=0.2, random_state=42)\n",
    "\n",
    "    Xtr_raw, ytr = X_all.loc[X_all.index[train_idx], keep_cols].copy(), y_all.iloc[train_idx].copy()\n",
    "    Xva_raw, yva = X_all.loc[X_all.index[val_idx],   keep_cols].copy(), y_all.iloc[val_idx].copy()\n",
    "    Xte_raw, yte = X_all.loc[X_all.index[test_idx],  keep_cols].copy(), y_all.iloc[test_idx].copy()\n",
    "\n",
    "    categorical_cols = prepare_cats(Xtr_raw, Xva_raw, Xte_raw)\n",
    "\n",
    "    clf = LGBMClassifier(\n",
    "        n_estimators=2000,\n",
    "        learning_rate=0.05,\n",
    "        num_leaves=31,\n",
    "        random_state=42,\n",
    "        n_jobs=-1\n",
    "    )\n",
    "\n",
    "    clf.fit(\n",
    "        Xtr_raw, ytr,\n",
    "        eval_set=[(Xva_raw, yva)],\n",
    "        eval_metric=\"logloss\",\n",
    "        categorical_feature=categorical_cols,\n",
    "        callbacks=[early_stopping(100), log_evaluation(50)]\n",
    "    )\n",
    "\n",
    "    best_iter = clf.best_iteration_\n",
    "    proba_val = clf.predict_proba(Xva_raw, num_iteration=best_iter)[:,1]\n",
    "    thr, _ = best_threshold(yva, proba_val)\n",
    "\n",
    "    def report(split, X, y):\n",
    "        p = clf.predict_proba(X, num_iteration=best_iter)[:,1]\n",
    "        preds = (p >= thr).astype(int)\n",
    "        metrics = {\n",
    "            \"thr\": thr,\n",
    "            \"acc\": accuracy_score(y, preds),\n",
    "            \"logloss\": log_loss(y, p, labels=[0,1]),\n",
    "            \"auc\": roc_auc_score(y, p),\n",
    "            \"brier\": brier_score_loss(y, p),\n",
    "        }\n",
    "        return metrics\n",
    "\n",
    "    val_metrics  = report(\"val\",  Xva_raw, yva)\n",
    "    test_metrics = report(\"test\", Xte_raw, yte)\n",
    "\n",
    "    print(f\"\\n=== {name} ===\")\n",
    "    print(f\"Val:  acc {val_metrics['acc']:.4f} | logloss {val_metrics['logloss']:.4f} | AUC {val_metrics['auc']:.4f} | Brier {val_metrics['brier']:.4f} | thr {val_metrics['thr']:.3f}\")\n",
    "    print(f\"Test: acc {test_metrics['acc']:.4f} | logloss {test_metrics['logloss']:.4f} | AUC {test_metrics['auc']:.4f} | Brier {test_metrics['brier']:.4f} | thr {val_metrics['thr']:.3f}\")\n",
    "\n",
    "    return {\n",
    "        \"model\": clf, \"best_iter\": best_iter, \"thr\": thr,\n",
    "        \"val\": val_metrics, \"test\": test_metrics,\n",
    "        \"keep_cols\": keep_cols\n",
    "    }\n",
    "\n",
    "# ----- build variants -----\n",
    "all_cols = list(X_all.columns)\n",
    "\n",
    "# regex for player/crew identifiers we want to drop\n",
    "player_regex = re.compile(\n",
    "    r\"(passer|rusher|receiver|tackle|assist_tackle|qb_hit|sack_player|\"\n",
    "    r\"pass_defense|intercept|lateral|fumble|penalty_player|player_id|player_name)\",\n",
    "    flags=re.I\n",
    ")\n",
    "\n",
    "# baseline: keep everything you selected in Step 5\n",
    "variants = {\"baseline\": all_cols}\n",
    "\n",
    "# drop player/crew identity columns + stadium (overfit/venue proxy)\n",
    "no_players_stadium = [c for c in all_cols if (not player_regex.search(c)) and c not in {\"stadium\"}]\n",
    "variants[\"no_players_stadium\"] = no_players_stadium\n",
    "\n",
    "# also drop current-play priors (xpass / pass_oe)\n",
    "no_players_stadium_no_xpass = [c for c in no_players_stadium if c not in {\"xpass\",\"pass_oe\"}]\n",
    "variants[\"no_players_stadium_no_xpass\"] = no_players_stadium_no_xpass\n",
    "\n",
    "# ----- run ablations -----\n",
    "results = {}\n",
    "for name, cols in variants.items():\n",
    "    results[name] = train_eval_variant(name, cols)\n",
    "\n",
    "# (optional) inspect which variant wins on validation accuracy/AUC etc.\n",
    "best = max(results.items(), key=lambda kv: kv[1][\"val\"][\"auc\"])\n",
    "print(\"\\nBest by Val AUC:\", best[0], best[1][\"val\"])"
   ]
  },
  {
   "cell_type": "markdown",
   "metadata": {
    "id": "BdxmwHgDPiUq"
   },
   "source": [
    "#### `Summary` : \n",
    "\n",
    "Strong lift. Dropping player IDs + stadium gave you the best Val AUC (0.770) and a nice Test acc bump (0.704)—and keeping xpass/pass_oe helps. I’d lock that variant and then (a) tune a bit, (b) calibrate, (c) sanity-check by situation."
   ]
  },
  {
   "cell_type": "code",
   "execution_count": 16,
   "metadata": {
    "execution": {
     "iopub.execute_input": "2025-08-18T06:08:00.725435Z",
     "iopub.status.busy": "2025-08-18T06:08:00.725435Z",
     "iopub.status.idle": "2025-08-18T06:08:03.769440Z",
     "shell.execute_reply": "2025-08-18T06:08:03.769440Z"
    }
   },
   "outputs": [
    {
     "name": "stdout",
     "output_type": "stream",
     "text": [
      "[LightGBM] [Warning] feature_fraction is set=0.85, colsample_bytree=1.0 will be ignored. Current value: feature_fraction=0.85\n",
      "[LightGBM] [Warning] lambda_l2 is set=0.0, reg_lambda=0.0 will be ignored. Current value: lambda_l2=0.0\n",
      "[LightGBM] [Warning] bagging_fraction is set=0.8, subsample=1.0 will be ignored. Current value: bagging_fraction=0.8\n",
      "[LightGBM] [Warning] bagging_freq is set=1, subsample_freq=0 will be ignored. Current value: bagging_freq=1\n"
     ]
    },
    {
     "name": "stdout",
     "output_type": "stream",
     "text": [
      "[LightGBM] [Warning] feature_fraction is set=0.85, colsample_bytree=1.0 will be ignored. Current value: feature_fraction=0.85\n",
      "[LightGBM] [Warning] lambda_l2 is set=0.0, reg_lambda=0.0 will be ignored. Current value: lambda_l2=0.0\n",
      "[LightGBM] [Warning] bagging_fraction is set=0.8, subsample=1.0 will be ignored. Current value: bagging_fraction=0.8\n",
      "[LightGBM] [Warning] bagging_freq is set=1, subsample_freq=0 will be ignored. Current value: bagging_freq=1\n",
      "[LightGBM] [Info] Number of positive: 11350, number of negative: 7955\n",
      "[LightGBM] [Info] Auto-choosing col-wise multi-threading, the overhead of testing was 0.015130 seconds.\n",
      "You can set `force_col_wise=true` to remove the overhead.\n",
      "[LightGBM] [Info] Total Bins 27233\n",
      "[LightGBM] [Info] Number of data points in the train set: 19305, number of used features: 265\n",
      "[LightGBM] [Warning] feature_fraction is set=0.85, colsample_bytree=1.0 will be ignored. Current value: feature_fraction=0.85\n",
      "[LightGBM] [Warning] lambda_l2 is set=0.0, reg_lambda=0.0 will be ignored. Current value: lambda_l2=0.0\n",
      "[LightGBM] [Warning] bagging_fraction is set=0.8, subsample=1.0 will be ignored. Current value: bagging_fraction=0.8\n",
      "[LightGBM] [Warning] bagging_freq is set=1, subsample_freq=0 will be ignored. Current value: bagging_freq=1\n",
      "[LightGBM] [Info] [binary:BoostFromScore]: pavg=0.587931 -> initscore=0.355417\n",
      "[LightGBM] [Info] Start training from score 0.355417\n"
     ]
    },
    {
     "name": "stdout",
     "output_type": "stream",
     "text": [
      "Training until validation scores don't improve for 150 rounds\n"
     ]
    },
    {
     "name": "stdout",
     "output_type": "stream",
     "text": [
      "[100]\tvalid_0's binary_logloss: 0.559072\n"
     ]
    },
    {
     "name": "stdout",
     "output_type": "stream",
     "text": [
      "[200]\tvalid_0's binary_logloss: 0.555961\n"
     ]
    },
    {
     "name": "stdout",
     "output_type": "stream",
     "text": [
      "[300]\tvalid_0's binary_logloss: 0.560091\n",
      "Early stopping, best iteration is:\n",
      "[162]\tvalid_0's binary_logloss: 0.554569\n",
      "Final best_iter: 162\n",
      "[LightGBM] [Warning] feature_fraction is set=0.85, colsample_bytree=1.0 will be ignored. Current value: feature_fraction=0.85\n",
      "[LightGBM] [Warning] lambda_l2 is set=0.0, reg_lambda=0.0 will be ignored. Current value: lambda_l2=0.0\n",
      "[LightGBM] [Warning] bagging_fraction is set=0.8, subsample=1.0 will be ignored. Current value: bagging_fraction=0.8\n",
      "[LightGBM] [Warning] bagging_freq is set=1, subsample_freq=0 will be ignored. Current value: bagging_freq=1\n",
      "Test ACC: 0.7070557813077207 AUC: 0.7672750878091739 LogLoss: 0.5626115146324868 Brier: 0.19087140728741994\n",
      "CM:\n",
      " [[1239  949]\n",
      " [ 637 2589]]\n"
     ]
    }
   ],
   "source": [
    "# Use the no_players_stadium keep list you already built:\n",
    "keep_cols = no_players_stadium  # from your ablation step\n",
    "\n",
    "# Rebuild splits (same seed to keep comparability)\n",
    "groups = work.loc[X_all.index, \"game_id\"]\n",
    "train_idx, val_idx, test_idx = group_train_val_test_split(groups, test_size=0.2, val_size=0.2, random_state=42)\n",
    "\n",
    "# Merge train+val for the final model (still use early stopping on a tiny val slice)\n",
    "trval_idx = np.concatenate([train_idx, val_idx])\n",
    "X_trval_raw = X_all.loc[X_all.index[trval_idx], keep_cols].copy()\n",
    "y_trval     = y_all.iloc[trval_idx].copy()\n",
    "\n",
    "X_test_raw  = X_all.loc[X_all.index[test_idx],  keep_cols].copy()\n",
    "y_test      = y_all.iloc[test_idx].copy()\n",
    "\n",
    "# Categories (align levels across splits)\n",
    "for df_split in (X_trval_raw, X_test_raw):\n",
    "    for c in df_split.select_dtypes(include=\"object\").columns:\n",
    "        df_split[c] = df_split[c].astype(\"category\")\n",
    "\n",
    "categorical_cols = list(X_trval_raw.select_dtypes(include=\"category\").columns)\n",
    "for c in categorical_cols:\n",
    "    cats = X_trval_raw[c].cat.categories.union(X_test_raw[c].cat.categories)\n",
    "    X_trval_raw[c] = X_trval_raw[c].cat.set_categories(cats)\n",
    "    X_test_raw[c]  = X_test_raw[c].cat.set_categories(cats)\n",
    "\n",
    "# === Tiny early-stopping val (group-aware) ===\n",
    "# Build groups for the combined train+val pool\n",
    "groups_trval = groups.iloc[trval_idx].reset_index(drop=True)\n",
    "\n",
    "# Reindex features/labels to match\n",
    "X_trval_raw = X_trval_raw.reset_index(drop=True)\n",
    "y_trval     = y_trval.reset_index(drop=True)\n",
    "\n",
    "# 10% of train+val as early-stopping validation (grouped by game_id)\n",
    "gss = GroupShuffleSplit(n_splits=1, test_size=0.10, random_state=123)\n",
    "sub_train_rel, sub_val_rel = next(gss.split(np.arange(len(groups_trval)), groups=groups_trval))\n",
    "\n",
    "X_subtr, y_subtr = X_trval_raw.iloc[sub_train_rel], y_trval.iloc[sub_train_rel]\n",
    "X_subva, y_subva = X_trval_raw.iloc[sub_val_rel],  y_trval.iloc[sub_val_rel]\n",
    "\n",
    "from lightgbm import LGBMClassifier, early_stopping, log_evaluation\n",
    "\n",
    "final_clf = LGBMClassifier(\n",
    "    n_estimators=4000,\n",
    "    learning_rate=0.035,\n",
    "    num_leaves=63,\n",
    "    min_child_samples=40,\n",
    "    feature_fraction=0.85,\n",
    "    bagging_fraction=0.8,\n",
    "    bagging_freq=1,\n",
    "    lambda_l2=0.0,\n",
    "    random_state=42,\n",
    "    n_jobs=-1\n",
    ")\n",
    "\n",
    "final_clf.fit(\n",
    "    X_subtr, y_subtr,\n",
    "    eval_set=[(X_subva, y_subva)],\n",
    "    eval_metric=\"logloss\",\n",
    "    categorical_feature=categorical_cols,\n",
    "    callbacks=[early_stopping(150), log_evaluation(100)]\n",
    ")\n",
    "\n",
    "best_iter = final_clf.best_iteration_\n",
    "print(\"Final best_iter:\", best_iter)\n",
    "\n",
    "# Evaluate on held-out TEST\n",
    "from sklearn.metrics import accuracy_score, log_loss, roc_auc_score, brier_score_loss, confusion_matrix\n",
    "proba_test = final_clf.predict_proba(X_test_raw, num_iteration=best_iter)[:,1]\n",
    "\n",
    "# Use the val-optimized threshold you found (~0.485) or re-tune on X_subva/y_subva\n",
    "thr = 0.485\n",
    "pred_test = (proba_test >= thr).astype(int)\n",
    "print(\"Test ACC:\", accuracy_score(y_test, pred_test),\n",
    "      \"AUC:\", roc_auc_score(y_test, proba_test),\n",
    "      \"LogLoss:\", log_loss(y_test, proba_test),\n",
    "      \"Brier:\", brier_score_loss(y_test, proba_test))\n",
    "print(\"CM:\\n\", confusion_matrix(y_test, pred_test))"
   ]
  },
  {
   "cell_type": "code",
   "execution_count": 17,
   "metadata": {
    "execution": {
     "iopub.execute_input": "2025-08-18T06:08:03.771446Z",
     "iopub.status.busy": "2025-08-18T06:08:03.771446Z",
     "iopub.status.idle": "2025-08-18T06:08:03.775208Z",
     "shell.execute_reply": "2025-08-18T06:08:03.775208Z"
    }
   },
   "outputs": [],
   "source": [
    "# rng = np.random.RandomState(7)\n",
    "\n",
    "# def cv_score(params, X, y, groups, cat_cols, n_splits=4):\n",
    "#     gkf = GroupKFold(n_splits=n_splits)\n",
    "#     scores = []\n",
    "#     for tr_idx, va_idx in gkf.split(X, y, groups):\n",
    "#         Xtr, Xva = X.iloc[tr_idx].copy(), X.iloc[va_idx].copy()\n",
    "#         ytr, yva = y.iloc[tr_idx], y.iloc[va_idx]\n",
    "#         # ensure cats across split\n",
    "#         for df_split in (Xtr, Xva):\n",
    "#             for c in Xtr.select_dtypes(include=\"object\").columns:\n",
    "#                 df_split[c] = df_split[c].astype(\"category\")\n",
    "#         cats = list(Xtr.select_dtypes(include=\"category\").columns)\n",
    "#         for c in cats:\n",
    "#             union = Xtr[c].cat.categories.union(Xva[c].cat.categories)\n",
    "#             Xtr[c] = Xtr[c].cat.set_categories(union)\n",
    "#             Xva[c] = Xva[c].cat.set_categories(union)\n",
    "\n",
    "#         clf = LGBMClassifier(n_estimators=3000, random_state=42, n_jobs=-1, **params)\n",
    "#         clf.fit(\n",
    "#             Xtr, ytr,\n",
    "#             eval_set=[(Xva, yva)],\n",
    "#             eval_metric=\"logloss\",\n",
    "#             categorical_feature=cats,\n",
    "#             callbacks=[early_stopping(150)]\n",
    "#         )\n",
    "#         p = clf.predict_proba(Xva, num_iteration=clf.best_iteration_)[:,1]\n",
    "#         scores.append(log_loss(yva, p))\n",
    "#     return np.mean(scores)\n",
    "\n",
    "# search_space = {\n",
    "#     \"learning_rate\": lambda: 10**rng.uniform(-2.0, -1.2),  # ~0.01–0.06\n",
    "#     \"num_leaves\":    lambda: int(rng.choice([31, 47, 63, 95])),\n",
    "#     \"min_child_samples\": lambda: int(rng.choice([20, 40, 60, 80])),\n",
    "#     \"feature_fraction\":  lambda: rng.uniform(0.7, 0.95),\n",
    "#     \"bagging_fraction\":  lambda: rng.uniform(0.7, 0.95),\n",
    "#     \"bagging_freq\":      lambda: int(rng.choice([1, 2, 3])),\n",
    "#     \"lambda_l2\":         lambda: 10**rng.uniform(-3, 2),   # 0.001–100\n",
    "# }\n",
    "\n",
    "# best_params, best_loss = None, float(\"inf\")\n",
    "# for i in range(20):  # n_iter\n",
    "#     params = {k: f() for k,f in search_space.items()}\n",
    "#     loss = cv_score(params, X_all[keep_cols], y_all, groups, categorical_cols, n_splits=4)\n",
    "#     if loss < best_loss:\n",
    "#         best_loss, best_params = loss, params\n",
    "#     print(f\"[{i+1:02d}] logloss {loss:.5f} | best {best_loss:.5f} | {params}\")\n",
    "\n",
    "# print(\"\\nBest params:\", best_params)"
   ]
  },
  {
   "cell_type": "code",
   "execution_count": 18,
   "metadata": {
    "execution": {
     "iopub.execute_input": "2025-08-18T06:08:03.777917Z",
     "iopub.status.busy": "2025-08-18T06:08:03.777917Z",
     "iopub.status.idle": "2025-08-18T06:08:09.272478Z",
     "shell.execute_reply": "2025-08-18T06:08:09.271976Z"
    }
   },
   "outputs": [
    {
     "name": "stdout",
     "output_type": "stream",
     "text": [
      "[LightGBM] [Warning] feature_fraction is set=0.8096023078602234, colsample_bytree=1.0 will be ignored. Current value: feature_fraction=0.8096023078602234\n",
      "[LightGBM] [Warning] lambda_l2 is set=0.034678781225883096, reg_lambda=0.0 will be ignored. Current value: lambda_l2=0.034678781225883096\n",
      "[LightGBM] [Warning] bagging_fraction is set=0.8808662944577352, subsample=1.0 will be ignored. Current value: bagging_fraction=0.8808662944577352\n",
      "[LightGBM] [Warning] bagging_freq is set=1, subsample_freq=0 will be ignored. Current value: bagging_freq=1\n",
      "[LightGBM] [Warning] feature_fraction is set=0.8096023078602234, colsample_bytree=1.0 will be ignored. Current value: feature_fraction=0.8096023078602234\n",
      "[LightGBM] [Warning] lambda_l2 is set=0.034678781225883096, reg_lambda=0.0 will be ignored. Current value: lambda_l2=0.034678781225883096\n",
      "[LightGBM] [Warning] bagging_fraction is set=0.8808662944577352, subsample=1.0 will be ignored. Current value: bagging_fraction=0.8808662944577352\n",
      "[LightGBM] [Warning] bagging_freq is set=1, subsample_freq=0 will be ignored. Current value: bagging_freq=1\n",
      "[LightGBM] [Info] Number of positive: 11350, number of negative: 7955\n",
      "[LightGBM] [Info] Auto-choosing col-wise multi-threading, the overhead of testing was 0.014544 seconds.\n",
      "You can set `force_col_wise=true` to remove the overhead.\n",
      "[LightGBM] [Info] Total Bins 27233\n",
      "[LightGBM] [Info] Number of data points in the train set: 19305, number of used features: 265\n",
      "[LightGBM] [Warning] feature_fraction is set=0.8096023078602234, colsample_bytree=1.0 will be ignored. Current value: feature_fraction=0.8096023078602234\n",
      "[LightGBM] [Warning] lambda_l2 is set=0.034678781225883096, reg_lambda=0.0 will be ignored. Current value: lambda_l2=0.034678781225883096\n",
      "[LightGBM] [Warning] bagging_fraction is set=0.8808662944577352, subsample=1.0 will be ignored. Current value: bagging_fraction=0.8808662944577352\n",
      "[LightGBM] [Warning] bagging_freq is set=1, subsample_freq=0 will be ignored. Current value: bagging_freq=1\n",
      "[LightGBM] [Info] [binary:BoostFromScore]: pavg=0.587931 -> initscore=0.355417\n",
      "[LightGBM] [Info] Start training from score 0.355417\n",
      "Training until validation scores don't improve for 150 rounds\n"
     ]
    },
    {
     "name": "stdout",
     "output_type": "stream",
     "text": [
      "[100]\tvalid_0's binary_logloss: 0.58925\n"
     ]
    },
    {
     "name": "stdout",
     "output_type": "stream",
     "text": [
      "[200]\tvalid_0's binary_logloss: 0.568566\n"
     ]
    },
    {
     "name": "stdout",
     "output_type": "stream",
     "text": [
      "[300]\tvalid_0's binary_logloss: 0.560786\n"
     ]
    },
    {
     "name": "stdout",
     "output_type": "stream",
     "text": [
      "[400]\tvalid_0's binary_logloss: 0.55781\n"
     ]
    },
    {
     "name": "stdout",
     "output_type": "stream",
     "text": [
      "[500]\tvalid_0's binary_logloss: 0.556832\n"
     ]
    },
    {
     "name": "stdout",
     "output_type": "stream",
     "text": [
      "[600]\tvalid_0's binary_logloss: 0.556609\n"
     ]
    },
    {
     "name": "stdout",
     "output_type": "stream",
     "text": [
      "Early stopping, best iteration is:\n",
      "[542]\tvalid_0's binary_logloss: 0.556276\n",
      "[LightGBM] [Warning] feature_fraction is set=0.8096023078602234, colsample_bytree=1.0 will be ignored. Current value: feature_fraction=0.8096023078602234\n",
      "[LightGBM] [Warning] lambda_l2 is set=0.034678781225883096, reg_lambda=0.0 will be ignored. Current value: lambda_l2=0.034678781225883096\n",
      "[LightGBM] [Warning] bagging_fraction is set=0.8808662944577352, subsample=1.0 will be ignored. Current value: bagging_fraction=0.8808662944577352\n",
      "[LightGBM] [Warning] bagging_freq is set=1, subsample_freq=0 will be ignored. Current value: bagging_freq=1\n",
      "Chosen threshold: 0.5499999999999999 | best_iter: 542\n",
      "[LightGBM] [Warning] feature_fraction is set=0.8096023078602234, colsample_bytree=1.0 will be ignored. Current value: feature_fraction=0.8096023078602234\n",
      "[LightGBM] [Warning] lambda_l2 is set=0.034678781225883096, reg_lambda=0.0 will be ignored. Current value: lambda_l2=0.034678781225883096\n",
      "[LightGBM] [Warning] bagging_fraction is set=0.8808662944577352, subsample=1.0 will be ignored. Current value: bagging_fraction=0.8808662944577352\n",
      "[LightGBM] [Warning] bagging_freq is set=1, subsample_freq=0 will be ignored. Current value: bagging_freq=1\n",
      "TEST  Acc: 0.7063169560398965 | AUC: 0.7695269865160924 | LogLoss: 0.5607107015637047 | Brier: 0.19003104131820045\n",
      "TEST CM:\n",
      " [[1491  697]\n",
      " [ 893 2333]]\n"
     ]
    }
   ],
   "source": [
    "best_params = {\n",
    "    \"learning_rate\": 0.011509239604626666,\n",
    "    \"num_leaves\": 47,\n",
    "    \"min_child_samples\": 60,\n",
    "    \"feature_fraction\": 0.8096023078602234,\n",
    "    \"bagging_fraction\": 0.8808662944577352,\n",
    "    \"bagging_freq\": 1,\n",
    "    \"lambda_l2\": 0.034678781225883096,\n",
    "}\n",
    "\n",
    "# --- rebuild splits (same as before) ---\n",
    "train_idx, val_idx, test_idx = group_train_val_test_split(\n",
    "    groups, test_size=0.2, val_size=0.2, random_state=42\n",
    ")\n",
    "trval_idx = np.concatenate([train_idx, val_idx])\n",
    "\n",
    "X_trval_raw = X_all.loc[X_all.index[trval_idx], keep_cols].copy()\n",
    "y_trval     = y_all.iloc[trval_idx].copy()\n",
    "X_test_raw  = X_all.loc[X_all.index[test_idx],  keep_cols].copy()\n",
    "y_test      = y_all.iloc[test_idx].copy()\n",
    "\n",
    "# --- categories + align levels ---\n",
    "for df_split in (X_trval_raw, X_test_raw):\n",
    "    for c in df_split.select_dtypes(include=[\"object\"]).columns:\n",
    "        df_split[c] = df_split[c].astype(\"category\")\n",
    "categorical_cols = list(X_trval_raw.select_dtypes(include=[\"category\"]).columns)\n",
    "for c in categorical_cols:\n",
    "    cats = X_trval_raw[c].cat.categories.union(X_test_raw[c].cat.categories)\n",
    "    X_trval_raw[c] = X_trval_raw[c].cat.set_categories(cats)\n",
    "    X_test_raw[c]  = X_test_raw[c].cat.set_categories(cats)\n",
    "\n",
    "# --- tiny, group-aware early-stopping val from tr+val ---\n",
    "from sklearn.model_selection import GroupShuffleSplit\n",
    "groups_trval = groups.iloc[trval_idx].reset_index(drop=True)\n",
    "X_trval_raw  = X_trval_raw.reset_index(drop=True)\n",
    "y_trval      = y_trval.reset_index(drop=True)\n",
    "\n",
    "gss = GroupShuffleSplit(n_splits=1, test_size=0.10, random_state=123)\n",
    "sub_train_rel, sub_val_rel = next(gss.split(np.arange(len(groups_trval)), groups=groups_trval))\n",
    "X_subtr, y_subtr = X_trval_raw.iloc[sub_train_rel], y_trval.iloc[sub_train_rel]\n",
    "X_subva, y_subva = X_trval_raw.iloc[sub_val_rel],  y_trval.iloc[sub_val_rel]\n",
    "\n",
    "# --- train final with best_params ---\n",
    "from lightgbm import LGBMClassifier, early_stopping, log_evaluation\n",
    "final_clf = LGBMClassifier(\n",
    "    n_estimators=4000,\n",
    "    random_state=42,\n",
    "    n_jobs=-1,\n",
    "    **best_params\n",
    ")\n",
    "final_clf.fit(\n",
    "    X_subtr, y_subtr,\n",
    "    eval_set=[(X_subva, y_subva)],\n",
    "    eval_metric=\"logloss\",\n",
    "    categorical_feature=categorical_cols,\n",
    "    callbacks=[early_stopping(150), log_evaluation(100)]\n",
    ")\n",
    "best_iter = final_clf.best_iteration_\n",
    "\n",
    "# --- choose decision threshold on sub-val for accuracy (or J-stat/F1 if you prefer) ---\n",
    "p_val = final_clf.predict_proba(X_subva, num_iteration=best_iter)[:,1]\n",
    "thr_grid = np.linspace(0.30, 0.70, 81)\n",
    "thr = max(thr_grid, key=lambda t: accuracy_score(y_subva, (p_val >= t).astype(int)))\n",
    "print(\"Chosen threshold:\", thr, \"| best_iter:\", best_iter)\n",
    "\n",
    "# --- evaluate on TEST ---\n",
    "p_test = final_clf.predict_proba(X_test_raw, num_iteration=best_iter)[:,1]\n",
    "y_hat  = (p_test >= thr).astype(int)\n",
    "print(\n",
    "    \"TEST  Acc:\", accuracy_score(y_test, y_hat),\n",
    "    \"| AUC:\", roc_auc_score(y_test, p_test),\n",
    "    \"| LogLoss:\", log_loss(y_test, p_test),\n",
    "    \"| Brier:\", brier_score_loss(y_test, p_test)\n",
    ")\n",
    "print(\"TEST CM:\\n\", confusion_matrix(y_test, y_hat))"
   ]
  },
  {
   "cell_type": "markdown",
   "metadata": {
    "id": "BdxmwHgDPiUq"
   },
   "source": [
    "#### `Summary` : \n",
    "\n",
    "big win. Your best sweep params trained a final that beats the earlier baseline:\n",
    "\n",
    "Test AUC 0.7695 (↑ ~0.006)\n",
    "\n",
    "Test LogLoss 0.5607 (↓ ~0.005)\n",
    "\n",
    "Acc 0.7063 (about the same)\n",
    "\n",
    "Brier 0.1900 (↓)"
   ]
  },
  {
   "cell_type": "code",
   "execution_count": 19,
   "metadata": {
    "execution": {
     "iopub.execute_input": "2025-08-18T06:08:09.274474Z",
     "iopub.status.busy": "2025-08-18T06:08:09.274474Z",
     "iopub.status.idle": "2025-08-18T06:08:09.407459Z",
     "shell.execute_reply": "2025-08-18T06:08:09.407459Z"
    }
   },
   "outputs": [
    {
     "name": "stdout",
     "output_type": "stream",
     "text": [
      "[LightGBM] [Warning] feature_fraction is set=0.8096023078602234, colsample_bytree=1.0 will be ignored. Current value: feature_fraction=0.8096023078602234\n",
      "[LightGBM] [Warning] lambda_l2 is set=0.034678781225883096, reg_lambda=0.0 will be ignored. Current value: lambda_l2=0.034678781225883096\n",
      "[LightGBM] [Warning] bagging_fraction is set=0.8808662944577352, subsample=1.0 will be ignored. Current value: bagging_fraction=0.8808662944577352\n",
      "[LightGBM] [Warning] bagging_freq is set=1, subsample_freq=0 will be ignored. Current value: bagging_freq=1\n",
      "[LightGBM] [Warning] feature_fraction is set=0.8096023078602234, colsample_bytree=1.0 will be ignored. Current value: feature_fraction=0.8096023078602234\n",
      "[LightGBM] [Warning] lambda_l2 is set=0.034678781225883096, reg_lambda=0.0 will be ignored. Current value: lambda_l2=0.034678781225883096\n",
      "[LightGBM] [Warning] bagging_fraction is set=0.8808662944577352, subsample=1.0 will be ignored. Current value: bagging_fraction=0.8808662944577352\n",
      "[LightGBM] [Warning] bagging_freq is set=1, subsample_freq=0 will be ignored. Current value: bagging_freq=1\n",
      "       RAW | Acc 0.7063 | AUC 0.7695 | LogLoss 0.5607 | Brier 0.1900 | ECE 0.0245\n",
      "       CAL | Acc 0.6932 | AUC 0.7688 | LogLoss 0.5677 | Brier 0.1908 | ECE 0.0278\n",
      "\n",
      "Reliability (raw):\n",
      "            bin  count  mean_pred  frac_pos     |gap|\n",
      "0  [0.00,0.10)     18   0.069404  0.000000  0.069404\n",
      "1  [0.10,0.20)    138   0.168304  0.181159  0.012855\n",
      "2  [0.20,0.30)    471   0.255097  0.263270  0.008172\n",
      "3  [0.30,0.40)    643   0.353288  0.340591  0.012697\n",
      "4  [0.40,0.50)    737   0.451603  0.446404  0.005199\n",
      "5  [0.50,0.60)    703   0.547877  0.560455  0.012578\n",
      "6  [0.60,0.70)    620   0.650318  0.614516  0.035802\n",
      "7  [0.70,0.80)    751   0.751493  0.788282  0.036790\n",
      "8  [0.80,0.90)   1098   0.851337  0.854281  0.002944\n",
      "9  [0.90,1.00)    235   0.917043  0.953191  0.036148\n",
      "\n",
      "Reliability (cal):\n",
      "            bin  count  mean_pred  frac_pos     |gap|\n",
      "0  [0.00,0.10)     32   0.038690  0.062500  0.023810\n",
      "1  [0.10,0.20)    261   0.164070  0.214559  0.050490\n",
      "2  [0.20,0.30)    518   0.262065  0.297297  0.035232\n",
      "3  [0.30,0.40)    631   0.326172  0.354992  0.028820\n",
      "4  [0.40,0.50)    942   0.440367  0.485138  0.044771\n",
      "5  [0.50,0.60)    422   0.545919  0.594787  0.048868\n",
      "6  [0.60,0.70)    778   0.668004  0.654242  0.013762\n",
      "7  [0.70,0.80)    172   0.758681  0.802326  0.043644\n",
      "8  [0.80,0.90)   1318   0.841102  0.845979  0.004877\n",
      "9  [0.90,1.00)    293   0.946211  0.935154  0.011058\n"
     ]
    }
   ],
   "source": [
    "# Recompute fold-val/test probabilities just to be explicit\n",
    "p_val  = final_clf.predict_proba(X_subva,  num_iteration=best_iter)[:, 1]\n",
    "p_test = final_clf.predict_proba(X_test_raw, num_iteration=best_iter)[:, 1]\n",
    "\n",
    "# Fit isotonic on sub-val; transform test\n",
    "iso = IsotonicRegression(out_of_bounds=\"clip\")\n",
    "iso.fit(p_val, y_subva)\n",
    "p_test_cal = iso.transform(p_test)\n",
    "\n",
    "def expected_calibration_error(y_true, p, n_bins=15):\n",
    "    bins = np.linspace(0.0, 1.0, n_bins + 1)\n",
    "    idx  = np.digitize(p, bins) - 1\n",
    "    ece  = 0.0\n",
    "    n    = len(p)\n",
    "    for b in range(n_bins):\n",
    "        mask = idx == b\n",
    "        if mask.sum() == 0: \n",
    "            continue\n",
    "        gap = abs(p[mask].mean() - y_true[mask].mean())\n",
    "        ece += (mask.sum() / n) * gap\n",
    "    return float(ece)\n",
    "\n",
    "def reliability_table(y_true, p, n_bins=10):\n",
    "    bins = np.linspace(0, 1, n_bins + 1)\n",
    "    idx  = np.digitize(p, bins) - 1\n",
    "    rows = []\n",
    "    for b in range(n_bins):\n",
    "        m = idx == b\n",
    "        if m.sum() == 0:\n",
    "            rows.append((f\"[{bins[b]:.2f},{bins[b+1]:.2f})\", 0, np.nan, np.nan, np.nan))\n",
    "        else:\n",
    "            rows.append((\n",
    "                f\"[{bins[b]:.2f},{bins[b+1]:.2f})\",\n",
    "                int(m.sum()),\n",
    "                float(p[m].mean()),\n",
    "                float(y_true[m].mean()),\n",
    "                float(abs(p[m].mean() - y_true[m].mean()))\n",
    "            ))\n",
    "    return pd.DataFrame(rows, columns=[\"bin\",\"count\",\"mean_pred\",\"frac_pos\",\"|gap|\"])\n",
    "\n",
    "# Pre-calibration vs post-calibration on TEST\n",
    "def summarize(y, p, tag):\n",
    "    yhat = (p >= 0.55).astype(int)  # use your chosen ~0.55 thr; tweak if you want\n",
    "    print(f\"{tag:>10} | Acc {accuracy_score(y,yhat):.4f} \"\n",
    "          f\"| AUC {roc_auc_score(y,p):.4f} \"\n",
    "          f\"| LogLoss {log_loss(y,p):.4f} \"\n",
    "          f\"| Brier {brier_score_loss(y,p):.4f} \"\n",
    "          f\"| ECE {expected_calibration_error(y,p):.4f}\")\n",
    "\n",
    "summarize(y_test, p_test,      \"RAW\")\n",
    "summarize(y_test, p_test_cal,  \"CAL\")\n",
    "\n",
    "rel_raw = reliability_table(y_test, p_test, n_bins=10)\n",
    "rel_cal = reliability_table(y_test, p_test_cal, n_bins=10)\n",
    "print(\"\\nReliability (raw):\\n\", rel_raw)\n",
    "print(\"\\nReliability (cal):\\n\", rel_cal)"
   ]
  },
  {
   "cell_type": "markdown",
   "metadata": {
    "id": "VxKiaua0PiUo"
   },
   "source": [
    "<div class=\"alert alert-info\" style=\"background-color:#006a79; color:white; padding:0px 10px; border-radius:5px;\"><h2 style='margin:10px 5px'>Improvements from 1.0</h2>\n",
    "</div>"
   ]
  },
  {
   "cell_type": "code",
   "execution_count": 20,
   "metadata": {
    "execution": {
     "iopub.execute_input": "2025-08-18T06:08:09.409455Z",
     "iopub.status.busy": "2025-08-18T06:08:09.409455Z",
     "iopub.status.idle": "2025-08-18T06:08:09.577370Z",
     "shell.execute_reply": "2025-08-18T06:08:09.577370Z"
    }
   },
   "outputs": [
    {
     "data": {
      "image/png": "[encoded data removed]",
      "text/plain": [
       "<Figure size 600x500 with 1 Axes>"
      ]
     },
     "metadata": {},
     "output_type": "display_data"
    }
   ],
   "source": [
    "plt.figure(figsize=(6,5))\n",
    "\n",
    "# New (raw)\n",
    "fpr_new, tpr_new, _ = roc_curve(y_test, p_test)\n",
    "auc_new = auc(fpr_new, tpr_new)\n",
    "plt.plot(fpr_new, tpr_new, label=f\"New (raw) AUC={auc_new:.3f}\")\n",
    "\n",
    "# New (cal)\n",
    "fpr_cal, tpr_cal, _ = roc_curve(y_test, p_test_cal)\n",
    "auc_cal = auc(fpr_cal, tpr_cal)\n",
    "plt.plot(fpr_cal, tpr_cal, label=f\"New (cal) AUC={auc_cal:.3f}\")\n",
    "\n",
    "# Baseline (if available)\n",
    "if \"p_test_base\" in globals():\n",
    "    fpr_b, tpr_b, _ = roc_curve(y_test, p_test_base)\n",
    "    auc_b = auc(fpr_b, tpr_b)\n",
    "    plt.plot(fpr_b, tpr_b, label=f\"Baseline AUC={auc_b:.3f}\")\n",
    "\n",
    "# Diagonal\n",
    "plt.plot([0,1],[0,1], linestyle=\"--\")\n",
    "\n",
    "plt.xlabel(\"False Positive Rate\")\n",
    "plt.ylabel(\"True Positive Rate\")\n",
    "plt.title(\"ROC Curve — Baseline vs New\")\n",
    "plt.legend()\n",
    "plt.grid(True, alpha=0.3)\n",
    "plt.tight_layout()"
   ]
  },
  {
   "cell_type": "code",
   "execution_count": 21,
   "metadata": {
    "execution": {
     "iopub.execute_input": "2025-08-18T06:08:09.577370Z",
     "iopub.status.busy": "2025-08-18T06:08:09.577370Z",
     "iopub.status.idle": "2025-08-18T06:08:09.718777Z",
     "shell.execute_reply": "2025-08-18T06:08:09.718777Z"
    }
   },
   "outputs": [
    {
     "data": {
      "image/png": "[encoded data removed]",
      "text/plain": [
       "<Figure size 600x500 with 1 Axes>"
      ]
     },
     "metadata": {},
     "output_type": "display_data"
    }
   ],
   "source": [
    "plt.figure(figsize=(6,5))\n",
    "\n",
    "# New (raw)\n",
    "prec_n, rec_n, _ = precision_recall_curve(y_test, p_test)\n",
    "ap_n = average_precision_score(y_test, p_test)\n",
    "plt.plot(rec_n, prec_n, label=f\"New (raw) AP={ap_n:.3f}\")\n",
    "\n",
    "# New (cal)\n",
    "prec_c, rec_c, _ = precision_recall_curve(y_test, p_test_cal)\n",
    "ap_c = average_precision_score(y_test, p_test_cal)\n",
    "plt.plot(rec_c, prec_c, label=f\"New (cal) AP={ap_c:.3f}\")\n",
    "\n",
    "# Baseline (if available)\n",
    "if \"p_test_base\" in globals():\n",
    "    prec_b, rec_b, _ = precision_recall_curve(y_test, p_test_base)\n",
    "    ap_b = average_precision_score(y_test, p_test_base)\n",
    "    plt.plot(rec_b, prec_b, label=f\"Baseline AP={ap_b:.3f}\")\n",
    "\n",
    "plt.xlabel(\"Recall\")\n",
    "plt.ylabel(\"Precision\")\n",
    "plt.title(\"Precision–Recall — Baseline vs New\")\n",
    "plt.legend()\n",
    "plt.grid(True, alpha=0.3)\n",
    "plt.tight_layout()"
   ]
  },
  {
   "cell_type": "code",
   "execution_count": 22,
   "metadata": {
    "execution": {
     "iopub.execute_input": "2025-08-18T06:08:09.720850Z",
     "iopub.status.busy": "2025-08-18T06:08:09.719816Z",
     "iopub.status.idle": "2025-08-18T06:08:09.841203Z",
     "shell.execute_reply": "2025-08-18T06:08:09.841203Z"
    }
   },
   "outputs": [
    {
     "data": {
      "image/png": "[encoded data removed]",
      "text/plain": [
       "<Figure size 600x500 with 1 Axes>"
      ]
     },
     "metadata": {},
     "output_type": "display_data"
    }
   ],
   "source": [
    "def plot_cal_curve(y, p, label):\n",
    "    frac_pos, mean_pred = calibration_curve(y, p, n_bins=12, strategy=\"uniform\")\n",
    "    plt.plot(mean_pred, frac_pos, marker=\"o\", label=label)\n",
    "\n",
    "plt.figure(figsize=(6,5))\n",
    "plot_cal_curve(y_test, p_test, \"New (raw)\")\n",
    "plot_cal_curve(y_test, p_test_cal, \"New (cal)\")\n",
    "if \"p_test_base\" in globals():\n",
    "    plot_cal_curve(y_test, p_test_base, \"Baseline\")\n",
    "\n",
    "# Perfect calibration line\n",
    "xs = np.linspace(0,1,100)\n",
    "plt.plot(xs, xs, linestyle=\"--\", label=\"Perfect\")\n",
    "\n",
    "plt.xlabel(\"Mean predicted probability\")\n",
    "plt.ylabel(\"Observed frequency\")\n",
    "plt.title(\"Reliability Diagram\")\n",
    "plt.legend()\n",
    "plt.grid(True, alpha=0.3)\n",
    "plt.tight_layout()"
   ]
  },
  {
   "cell_type": "code",
   "execution_count": 23,
   "metadata": {
    "execution": {
     "iopub.execute_input": "2025-08-18T06:08:09.842252Z",
     "iopub.status.busy": "2025-08-18T06:08:09.842252Z",
     "iopub.status.idle": "2025-08-18T06:08:10.250738Z",
     "shell.execute_reply": "2025-08-18T06:08:10.250738Z"
    }
   },
   "outputs": [
    {
     "data": {
      "image/png": "[encoded data removed]",
      "text/plain": [
       "<Figure size 600x500 with 1 Axes>"
      ]
     },
     "metadata": {},
     "output_type": "display_data"
    },
    {
     "data": {
      "image/png": "[encoded data removed]",
      "text/plain": [
       "<Figure size 600x500 with 1 Axes>"
      ]
     },
     "metadata": {},
     "output_type": "display_data"
    }
   ],
   "source": [
    "def sweep_metrics(y, p, label):\n",
    "    thrs = np.linspace(0.1, 0.9, 33)\n",
    "    accs = []\n",
    "    f1s  = []\n",
    "    for t in thrs:\n",
    "        yhat = (p >= t).astype(int)\n",
    "        accs.append(accuracy_score(y, yhat))\n",
    "        f1s.append(f1_score(y, yhat))\n",
    "    return thrs, np.array(accs), np.array(f1s), label\n",
    "\n",
    "# Accuracy\n",
    "plt.figure(figsize=(6,5))\n",
    "th, acc_new, f1_new, lab_n = sweep_metrics(y_test, p_test, \"New (raw)\")\n",
    "plt.plot(th, acc_new, label=\"New (raw)\")\n",
    "th, acc_cal, f1_cal, lab_c = sweep_metrics(y_test, p_test_cal, \"New (cal)\")\n",
    "plt.plot(th, acc_cal, label=\"New (cal)\")\n",
    "if \"p_test_base\" in globals():\n",
    "    th, acc_b, f1_b, lab_b = sweep_metrics(y_test, p_test_base, \"Baseline\")\n",
    "    plt.plot(th, acc_b, label=\"Baseline\")\n",
    "\n",
    "plt.xlabel(\"Threshold\")\n",
    "plt.ylabel(\"Accuracy\")\n",
    "plt.title(\"Threshold Sweep — Accuracy\")\n",
    "plt.legend()\n",
    "plt.grid(True, alpha=0.3)\n",
    "plt.tight_layout()\n",
    "\n",
    "# F1\n",
    "plt.figure(figsize=(6,5))\n",
    "plt.plot(th, f1_new, label=\"New (raw)\")\n",
    "plt.plot(th, f1_cal, label=\"New (cal)\")\n",
    "if \"p_test_base\" in globals():\n",
    "    plt.plot(th, f1_b, label=\"Baseline\")\n",
    "plt.xlabel(\"Threshold\")\n",
    "plt.ylabel(\"F1\")\n",
    "plt.title(\"Threshold Sweep — F1\")\n",
    "plt.legend()\n",
    "plt.grid(True, alpha=0.3)\n",
    "plt.tight_layout()"
   ]
  },
  {
   "cell_type": "code",
   "execution_count": 24,
   "metadata": {
    "execution": {
     "iopub.execute_input": "2025-08-18T06:08:10.250738Z",
     "iopub.status.busy": "2025-08-18T06:08:10.250738Z",
     "iopub.status.idle": "2025-08-18T06:08:10.506175Z",
     "shell.execute_reply": "2025-08-18T06:08:10.506175Z"
    }
   },
   "outputs": [
    {
     "data": {
      "image/png": "[encoded data removed]",
      "text/plain": [
       "<Figure size 500x400 with 2 Axes>"
      ]
     },
     "metadata": {},
     "output_type": "display_data"
    },
    {
     "data": {
      "image/png": "[encoded data removed]",
      "text/plain": [
       "<Figure size 500x400 with 2 Axes>"
      ]
     },
     "metadata": {},
     "output_type": "display_data"
    }
   ],
   "source": [
    "thr = 0.55  # you used ~0.55 earlier; change if needed\n",
    "\n",
    "def plot_cm(y, p, title):\n",
    "    yhat = (p >= thr).astype(int)\n",
    "    cm = confusion_matrix(y, yhat)\n",
    "    cmn = cm.astype(float) / cm.sum(axis=1, keepdims=True)\n",
    "\n",
    "    plt.figure(figsize=(5,4))\n",
    "    plt.imshow(cmn, interpolation=\"nearest\")\n",
    "    plt.title(title)\n",
    "    plt.xlabel(\"Predicted\")\n",
    "    plt.ylabel(\"Actual\")\n",
    "    for (i, j), v in np.ndenumerate(cmn):\n",
    "        plt.text(j, i, f\"{v:.2f}\", ha=\"center\", va=\"center\")\n",
    "    plt.xticks([0,1],[0,1])\n",
    "    plt.yticks([0,1],[0,1])\n",
    "    plt.colorbar()\n",
    "    plt.tight_layout()\n",
    "\n",
    "plot_cm(y_test, p_test, \"New (raw) — Confusion Matrix (normalized)\")\n",
    "plot_cm(y_test, p_test_cal, \"New (cal) — Confusion Matrix (normalized)\")\n",
    "if \"p_test_base\" in globals():\n",
    "    plot_cm(y_test, p_test_base, \"Baseline — Confusion Matrix (normalized)\")"
   ]
  },
  {
   "cell_type": "code",
   "execution_count": 25,
   "metadata": {
    "execution": {
     "iopub.execute_input": "2025-08-18T06:08:10.506175Z",
     "iopub.status.busy": "2025-08-18T06:08:10.506175Z",
     "iopub.status.idle": "2025-08-18T06:08:10.639374Z",
     "shell.execute_reply": "2025-08-18T06:08:10.639374Z"
    }
   },
   "outputs": [
    {
     "data": {
      "image/png": "[encoded data removed]",
      "text/plain": [
       "<Figure size 600x500 with 1 Axes>"
      ]
     },
     "metadata": {},
     "output_type": "display_data"
    }
   ],
   "source": [
    "def cumulative_gain(y_true, p_scores, label):\n",
    "    # sort by predicted prob desc\n",
    "    order = np.argsort(-p_scores)\n",
    "    y_sorted = np.array(y_true)[order]\n",
    "    cum_pos = np.cumsum(y_sorted)\n",
    "    total_pos = y_sorted.sum()\n",
    "    frac_samples = np.arange(1, len(y_sorted)+1) / len(y_sorted)\n",
    "    gain = cum_pos / max(total_pos, 1)\n",
    "    return frac_samples, gain, label\n",
    "\n",
    "plt.figure(figsize=(6,5))\n",
    "x, g_new, _ = cumulative_gain(y_test, p_test, \"New (raw)\")\n",
    "plt.plot(x, g_new, label=\"New (raw)\")\n",
    "x, g_cal, _ = cumulative_gain(y_test, p_test_cal, \"New (cal)\")\n",
    "plt.plot(x, g_cal, label=\"New (cal)\")\n",
    "\n",
    "if \"p_test_base\" in globals():\n",
    "    x, g_base, _ = cumulative_gain(y_test, p_test_base, \"Baseline\")\n",
    "    plt.plot(x, g_base, label=\"Baseline\")\n",
    "\n",
    "# Random model line\n",
    "plt.plot([0,1],[0,1], linestyle=\"--\", label=\"Random\")\n",
    "\n",
    "plt.xlabel(\"Fraction of plays reviewed (highest p first)\")\n",
    "plt.ylabel(\"Fraction of actual passes captured\")\n",
    "plt.title(\"Cumulative Gain (Focus on identifying passes)\")\n",
    "plt.legend()\n",
    "plt.grid(True, alpha=0.3)\n",
    "plt.tight_layout()"
   ]
  },
  {
   "cell_type": "code",
   "execution_count": 26,
   "metadata": {
    "execution": {
     "iopub.execute_input": "2025-08-18T06:08:10.641448Z",
     "iopub.status.busy": "2025-08-18T06:08:10.641448Z",
     "iopub.status.idle": "2025-08-18T06:08:10.804729Z",
     "shell.execute_reply": "2025-08-18T06:08:10.804729Z"
    }
   },
   "outputs": [
    {
     "data": {
      "image/png": "[encoded data removed]",
      "text/plain": [
       "<Figure size 700x600 with 1 Axes>"
      ]
     },
     "metadata": {},
     "output_type": "display_data"
    }
   ],
   "source": [
    "booster = final_clf.booster_\n",
    "imp = pd.DataFrame({\n",
    "    \"feature\": booster.feature_name(),\n",
    "    \"gain\": booster.feature_importance(importance_type=\"gain\"),\n",
    "    \"split\": booster.feature_importance(importance_type=\"split\"),\n",
    "})\n",
    "imp = imp.sort_values(\"gain\", ascending=False).head(20)\n",
    "\n",
    "plt.figure(figsize=(7,6))\n",
    "plt.barh(imp[\"feature\"][::-1], imp[\"gain\"][::-1])\n",
    "plt.title(\"Top-20 Features by Gain (Final Model)\")\n",
    "plt.xlabel(\"Gain\")\n",
    "plt.tight_layout()"
   ]
  },
  {
   "cell_type": "code",
   "execution_count": 27,
   "metadata": {
    "execution": {
     "iopub.execute_input": "2025-08-18T06:08:10.804729Z",
     "iopub.status.busy": "2025-08-18T06:08:10.804729Z",
     "iopub.status.idle": "2025-08-18T06:08:11.059008Z",
     "shell.execute_reply": "2025-08-18T06:08:11.059008Z"
    }
   },
   "outputs": [
    {
     "data": {
      "image/png": "[encoded data removed]",
      "text/plain": [
       "<Figure size 1000x400 with 4 Axes>"
      ]
     },
     "metadata": {},
     "output_type": "display_data"
    }
   ],
   "source": [
    "# Build eval frame\n",
    "eval_df = pd.DataFrame({\"y\": y_test.values, \"p\": p_test})\n",
    "if \"p_test_cal\" in globals():   eval_df[\"p_cal\"]  = p_test_cal\n",
    "if \"p_test_base\" in globals():  eval_df[\"p_base\"] = p_test_base\n",
    "\n",
    "# Pull situation features from X_test_raw\n",
    "yds = (X_test_raw[\"next_ydstogo\"]\n",
    "       if \"next_ydstogo\" in X_test_raw.columns\n",
    "       else X_test_raw.filter(like=\"ydstogo\").iloc[:, 0])\n",
    "down = (X_test_raw[\"next_down\"]\n",
    "        if \"next_down\" in X_test_raw.columns\n",
    "        else X_test_raw.filter(regex=r\"(^|_)down(_|$)\").iloc[:, 0])\n",
    "\n",
    "eval_df[\"down\"] = pd.to_numeric(down, errors=\"coerce\")\n",
    "eval_df[\"dist\"] = pd.cut(\n",
    "    yds, bins=[-np.inf, 3, 6, 10, np.inf],\n",
    "    labels=[\"<=3\", \"4–6\", \"7–10\", \">10\"]\n",
    ").astype(str)\n",
    "\n",
    "def group_metrics(df, prob_col):\n",
    "    rows = []\n",
    "    for (d, dist), g in df.groupby([\"down\", \"dist\"], dropna=True):\n",
    "        y, p = g[\"y\"].values, g[prob_col].values\n",
    "        auc = roc_auc_score(y, p) if len(np.unique(y)) > 1 else np.nan\n",
    "        gap = float(abs(p.mean() - y.mean()))  # mean pred vs empirical rate\n",
    "        rows.append({\"down\": d, \"dist\": dist, \"n\": len(g), \"auc\": auc, \"abs_gap\": gap})\n",
    "    m = pd.DataFrame(rows)\n",
    "    m = m.sort_values([\"down\", \"dist\"])\n",
    "    return m\n",
    "\n",
    "models = {\"New (raw)\": \"p\"}\n",
    "if \"p_test_cal\"  in eval_df.columns: models[\"New (cal)\"]  = \"p_cal\"\n",
    "if \"p_test_base\" in eval_df.columns: models[\"Baseline\"]   = \"p_base\"\n",
    "\n",
    "for name, col in models.items():\n",
    "    M = group_metrics(eval_df, col)\n",
    "    auc_p  = M.pivot(index=\"down\", columns=\"dist\", values=\"auc\")\n",
    "    gap_p  = M.pivot(index=\"down\", columns=\"dist\", values=\"abs_gap\")\n",
    "\n",
    "    fig, axes = plt.subplots(1, 2, figsize=(10, 4))\n",
    "\n",
    "    # AUC heatmap\n",
    "    im0 = axes[0].imshow(auc_p, vmin=0.50, vmax=0.90)\n",
    "    axes[0].set_title(f\"{name} — AUC by down × distance\")\n",
    "    axes[0].set_xticks(range(len(auc_p.columns))); axes[0].set_xticklabels(auc_p.columns)\n",
    "    axes[0].set_yticks(range(len(auc_p.index)));   axes[0].set_yticklabels(auc_p.index.astype(int))\n",
    "    for i in range(auc_p.shape[0]):\n",
    "        for j in range(auc_p.shape[1]):\n",
    "            val = auc_p.iloc[i, j]\n",
    "            if pd.notnull(val):\n",
    "                axes[0].text(j, i, f\"{val:.2f}\", ha=\"center\", va=\"center\", fontsize=9)\n",
    "    fig.colorbar(im0, ax=axes[0], fraction=0.046, pad=0.04)\n",
    "\n",
    "    # Calibration gap heatmap\n",
    "    im1 = axes[1].imshow(gap_p, vmin=0.00, vmax=0.15)\n",
    "    axes[1].set_title(f\"{name} — |Calibration gap| by down × distance\")\n",
    "    axes[1].set_xticks(range(len(gap_p.columns))); axes[1].set_xticklabels(gap_p.columns)\n",
    "    axes[1].set_yticks(range(len(gap_p.index)));   axes[1].set_yticklabels(gap_p.index.astype(int))\n",
    "    for i in range(gap_p.shape[0]):\n",
    "        for j in range(gap_p.shape[1]):\n",
    "            val = gap_p.iloc[i, j]\n",
    "            if pd.notnull(val):\n",
    "                axes[1].text(j, i, f\"{val:.02f}\", ha=\"center\", va=\"center\", fontsize=9)\n",
    "    fig.colorbar(im1, ax=axes[1], fraction=0.046, pad=0.04)\n",
    "\n",
    "    plt.tight_layout()"
   ]
  },
  {
   "cell_type": "markdown",
   "metadata": {
    "id": "VxKiaua0PiUo"
   },
   "source": [
    "<div class=\"alert alert-info\" style=\"background-color:#006a79; color:white; padding:0px 10px; border-radius:5px;\"><h2 style='margin:10px 5px'>Next Steps</h2>\n",
    "</div>"
   ]
  },
  {
   "cell_type": "code",
   "execution_count": 28,
   "metadata": {
    "execution": {
     "iopub.execute_input": "2025-08-18T06:08:11.061074Z",
     "iopub.status.busy": "2025-08-18T06:08:11.060036Z",
     "iopub.status.idle": "2025-08-18T06:08:11.076496Z",
     "shell.execute_reply": "2025-08-18T06:08:11.076496Z"
    }
   },
   "outputs": [
    {
     "name": "stdout",
     "output_type": "stream",
     "text": [
      "   down        dist    n       acc       auc   logloss  rate_pos    mean_p  \\\n",
      "0   1.0  long(7-10)  209  0.698565  0.764312  0.594015  0.521531  0.599172   \n",
      "1   2.0  long(7-10)   94  0.744681  0.821078  0.513184  0.638298  0.573696   \n",
      "\n",
      "    abs_gap  \n",
      "0  0.077641  \n",
      "1  0.064602  \n"
     ]
    }
   ],
   "source": [
    "def safe_auc(y, p):\n",
    "    u = np.unique(y)\n",
    "    return roc_auc_score(y, p) if len(u) > 1 else np.nan\n",
    "\n",
    "def distance_bucket(s):\n",
    "    # prefer \"next_ydstogo\"; fallback to current if needed\n",
    "    if \"next_ydstogo\" in X_test_raw.columns:\n",
    "        d = X_test_raw[\"next_ydstogo\"]\n",
    "    else:\n",
    "        d = X_test_raw.filter(regex=\"ydstogo\").iloc[:,0]\n",
    "    cuts = pd.cut(d, bins=[-np.inf, 3, 6, 10, np.inf],\n",
    "                  labels=[\"short(<=3)\", \"med(4-6)\", \"long(7-10)\", \"vlong(>10)\"])\n",
    "    return cuts.astype(str)\n",
    "\n",
    "df_eval = pd.DataFrame({\n",
    "    \"y\": y_test.values,\n",
    "    \"p\": p_test,  # or p_test_cal if you want calibrated\n",
    "})\n",
    "# pull situation columns from X_test_raw (which aligns with y_test index)\n",
    "df_eval[\"down\"]  = X_test_raw[\"next_down\"] if \"next_down\" in X_test_raw.columns else X_test_raw.filter(regex=\"down\").iloc[:,0]\n",
    "df_eval[\"dist\"]  = distance_bucket(X_test_raw)\n",
    "\n",
    "rows = []\n",
    "for (dwn, dist), g in df_eval.groupby([\"down\",\"dist\"]):\n",
    "    if len(g) < 50:  # skip tiny groups\n",
    "        continue\n",
    "    y, p = g[\"y\"].values, g[\"p\"].values\n",
    "    yhat = (p >= 0.55).astype(int)\n",
    "    rows.append({\n",
    "        \"down\": dwn, \"dist\": dist, \"n\": len(g),\n",
    "        \"acc\": accuracy_score(y, yhat),\n",
    "        \"auc\": safe_auc(y, p),\n",
    "        \"logloss\": log_loss(y, p),\n",
    "        \"rate_pos\": y.mean(),\n",
    "        \"mean_p\": p.mean(),\n",
    "        \"abs_gap\": abs(p.mean() - y.mean()),\n",
    "    })\n",
    "by_sit = pd.DataFrame(rows).sort_values([\"down\",\"dist\"]).reset_index(drop=True)\n",
    "print(by_sit)"
   ]
  },
  {
   "cell_type": "code",
   "execution_count": 29,
   "metadata": {
    "execution": {
     "iopub.execute_input": "2025-08-18T06:08:11.078579Z",
     "iopub.status.busy": "2025-08-18T06:08:11.077537Z",
     "iopub.status.idle": "2025-08-18T06:08:11.091141Z",
     "shell.execute_reply": "2025-08-18T06:08:11.091141Z"
    }
   },
   "outputs": [
    {
     "data": {
      "text/markdown": [
       "# Next-Play (Rush vs Pass) — Feature Engineering & Training Summary\n",
       "\n",
       "*Generated:* 2025-08-18 06:08 UTC\n",
       "\n",
       "This recap shows how we improved your model from a “single previous play” baseline to a contextual, sequence-aware approach with coach/team priors and next-snap features.\n"
      ],
      "text/plain": [
       "<IPython.core.display.Markdown object>"
      ]
     },
     "metadata": {},
     "output_type": "display_data"
    },
    {
     "data": {
      "text/markdown": [
       "\n",
       "## Where we started\n",
       "- **Baseline**: used only the **immediately previous play**; no sequence/context; no priors.\n",
       "- **Performance**: ~**66% accuracy** (binary). Better than random but lots of headroom.\n"
      ],
      "text/plain": [
       "<IPython.core.display.Markdown object>"
      ]
     },
     "metadata": {},
     "output_type": "display_data"
    },
    {
     "data": {
      "text/markdown": [
       "\n",
       "## Data labeling & targets\n",
       "We aligned each row with the **next snap** inside each game:\n",
       "\n",
       "- Built `next_*` columns: `next_playtype`, `next_down`, `next_ydstogo`, `next_yardline_100`, `next_wp`, etc.\n",
       "- Target: **`target_pass_next = 1{next_playtype == 'pass'}`**.\n",
       "- Possession: dataset already has `posteam` (offense this play). We derived **`next_posteam`** (offense on next play) by time-ordering within `game_id` and shifting, while letting turnovers naturally flip possession. This keeps the target aligned to the correct offense.\n"
      ],
      "text/plain": [
       "<IPython.core.display.Markdown object>"
      ]
     },
     "metadata": {},
     "output_type": "display_data"
    },
    {
     "data": {
      "text/markdown": [
       "\n",
       "## Step 1 — Stable identifiers & safe grouping\n",
       "- Cleaned keys for **offense (`posteam`)**, **defense (`defteam`)**, **coach (`off_coach`)**, **game (`game_id`)**.\n",
       "- Normalized missing/categorical fields to avoid Pandas category fill errors during feature creation.\n"
      ],
      "text/plain": [
       "<IPython.core.display.Markdown object>"
      ]
     },
     "metadata": {},
     "output_type": "display_data"
    },
    {
     "data": {
      "text/markdown": [
       "\n",
       "## Step 2 — Short-term history (sequence) features\n",
       "Added **rolling/lag** signals within *game × posteam* to capture momentum and recent play-calling:\n",
       "\n",
       "- `pass_rate_last_{3,5,8,12}`, complementary run rates\n",
       "- `last_play_pass`, `pass_streak`\n",
       "- `delta_secs_prev` (tempo/recency)\n",
       "\n",
       "Implementation: used **`groupby(...).transform(...)`** (row-aligned) instead of multi-index tricks, fixing the earlier IndexError.\n"
      ],
      "text/plain": [
       "<IPython.core.display.Markdown object>"
      ]
     },
     "metadata": {},
     "output_type": "display_data"
    },
    {
     "data": {
      "text/markdown": [
       "\n",
       "## Step 3 — Priors: coach/team/defense tendencies (smoothed, as-of)\n",
       "Built **expanding “as-of” pass-rate estimates** with **Bayesian/Laplace smoothing** (league prior ≈ 0.58, strength *k* ≈ 100):\n",
       "\n",
       "- **Coach priors**: overall, by **down**, and by **distance bucket** → `coach_pass_rate_overall_asof`, `coach_down_pass_rate_next`, `coach_dist_pass_rate_next`.\n",
       "- **Team priors**: overall/by down/distance → `team_pass_rate_overall`, `team_down_pass_rate_next`, etc.\n",
       "- **Defense allow**: opponent pass tendency by down → `def_down_pass_allowed_next`.\n",
       "\n",
       "Data hygiene: handled NA-to-int and category fill issues (`fillna(False)` for bools; cast categories to object before filling).\n"
      ],
      "text/plain": [
       "<IPython.core.display.Markdown object>"
      ]
     },
     "metadata": {},
     "output_type": "display_data"
    },
    {
     "data": {
      "text/markdown": [
       "\n",
       "## Step 4 — Environment & *next*-snap context\n",
       "Engineered **next-snap** context that the target depends on:\n",
       "\n",
       "- `next_down`, `next_ydstogo`, `next_yardline_100`, `next_wp`, `next_half_seconds_remaining`\n",
       "- `next_offense_is_home` by comparing `next_posteam` with `home_team`\n",
       "- Off/def **timeouts** before next snap; clock/half/quarter; field side; roof/surface/weather (where available)\n",
       "- Fixed nullable-int dtype hiccups to keep Pandas happy in your environment.\n"
      ],
      "text/plain": [
       "<IPython.core.display.Markdown object>"
      ]
     },
     "metadata": {},
     "output_type": "display_data"
    },
    {
     "data": {
      "text/markdown": [
       "\n",
       "## Step 5 — Pruning to reduce leakage & overfit\n",
       "- **Dropped** leakage-prone/high-cardinality features: player IDs/names (tacklers, passer IDs) and **stadium**.\n",
       "- **Kept** football-salient signals: coach/team priors, `xpass`, win prob, down/distance, field position.\n",
       "- Ablations: removing players+stadium **helped generalization**; removing `xpass` **hurt**, so we kept it.\n"
      ],
      "text/plain": [
       "<IPython.core.display.Markdown object>"
      ]
     },
     "metadata": {},
     "output_type": "display_data"
    },
    {
     "data": {
      "text/markdown": [
       "\n",
       "## Training upgrades\n",
       "- **LightGBM** with native categorical support:\n",
       "  - Cast object columns to `category`, passed `categorical_feature` names to `fit(...)`.\n",
       "- **Group-aware split** by `game_id` to avoid within-game leakage.\n",
       "- Early stopping and light hyperparameter search (LR, `num_leaves`, feature/bagging fractions, L2).\n",
       "- **Calibration** (isotonic) was tested; raw probabilities had slightly better ECE, so we kept raw for now.\n"
      ],
      "text/plain": [
       "<IPython.core.display.Markdown object>"
      ]
     },
     "metadata": {},
     "output_type": "display_data"
    },
    {
     "data": {
      "text/markdown": [
       "\n",
       "## Results (representative)\n",
       "- **Test**: **ACC ≈ 0.706–0.708**, **AUC ≈ 0.769–0.770**, **LogLoss ≈ 0.560–0.563**, **Brier ≈ 0.190**.\n",
       "- Clear lift from ~0.66 baseline; better ranking (AUC) and solid calibration.\n",
       "- Top features (gain/splits): **EPA / xpass / side_of_field / down & distance / WP**, **next-snap** context, and our **coach/team tendency** features.\n"
      ],
      "text/plain": [
       "<IPython.core.display.Markdown object>"
      ]
     },
     "metadata": {},
     "output_type": "display_data"
    },
    {
     "data": {
      "text/markdown": [
       "\n",
       "## Diagnostics & storytelling\n",
       "Prepared cells for:\n",
       "- **ROC & PR curves** (baseline vs new raw vs calibrated)\n",
       "- **Reliability/Calibration** plots\n",
       "- **Threshold sweep** (accuracy/F1 vs threshold) + confusion matrices\n",
       "- **Cumulative gain** curves\n",
       "- **By-situation heatmaps** (AUC & |calibration gap| across **next_down × distance**)\n"
      ],
      "text/plain": [
       "<IPython.core.display.Markdown object>"
      ]
     },
     "metadata": {},
     "output_type": "display_data"
    },
    {
     "data": {
      "text/markdown": [
       "\n",
       "## TL;DR impact\n",
       "Shifted from a “single previous play” heuristic to a **contextual, sequence-aware** model that encodes:\n",
       "\n",
       "1. **Short-term momentum** (rolling windows)\n",
       "2. **Stable priors** (coach/team/defense, smoothed and as-of)\n",
       "3. **True next-snap context** (down/distance/field/time/WP)\n",
       "\n",
       "…and **removed leakage-prone identifiers**. Result: higher discrimination, better calibration, and more robust generalization.\n"
      ],
      "text/plain": [
       "<IPython.core.display.Markdown object>"
      ]
     },
     "metadata": {},
     "output_type": "display_data"
    }
   ],
   "source": [
    "from IPython.display import display, Markdown\n",
    "from datetime import datetime, timezone\n",
    "\n",
    "title = f\"\"\"# Next-Play (Rush vs Pass) — Feature Engineering & Training Summary\n",
    "\n",
    "*Generated:* {datetime.now(timezone.utc):%Y-%m-%d %H:%M} UTC\n",
    "\n",
    "This recap shows how we improved your model from a “single previous play” baseline to a contextual, sequence-aware approach with coach/team priors and next-snap features.\n",
    "\"\"\"\n",
    "\n",
    "where_started = \"\"\"\n",
    "## Where we started\n",
    "- **Baseline**: used only the **immediately previous play**; no sequence/context; no priors.\n",
    "- **Performance**: ~**66% accuracy** (binary). Better than random but lots of headroom.\n",
    "\"\"\"\n",
    "\n",
    "labeling = \"\"\"\n",
    "## Data labeling & targets\n",
    "We aligned each row with the **next snap** inside each game:\n",
    "\n",
    "- Built `next_*` columns: `next_playtype`, `next_down`, `next_ydstogo`, `next_yardline_100`, `next_wp`, etc.\n",
    "- Target: **`target_pass_next = 1{next_playtype == 'pass'}`**.\n",
    "- Possession: dataset already has `posteam` (offense this play). We derived **`next_posteam`** (offense on next play) by time-ordering within `game_id` and shifting, while letting turnovers naturally flip possession. This keeps the target aligned to the correct offense.\n",
    "\"\"\"\n",
    "\n",
    "step1 = \"\"\"\n",
    "## Step 1 — Stable identifiers & safe grouping\n",
    "- Cleaned keys for **offense (`posteam`)**, **defense (`defteam`)**, **coach (`off_coach`)**, **game (`game_id`)**.\n",
    "- Normalized missing/categorical fields to avoid Pandas category fill errors during feature creation.\n",
    "\"\"\"\n",
    "\n",
    "step2 = \"\"\"\n",
    "## Step 2 — Short-term history (sequence) features\n",
    "Added **rolling/lag** signals within *game × posteam* to capture momentum and recent play-calling:\n",
    "\n",
    "- `pass_rate_last_{3,5,8,12}`, complementary run rates\n",
    "- `last_play_pass`, `pass_streak`\n",
    "- `delta_secs_prev` (tempo/recency)\n",
    "  \n",
    "Implementation: used **`groupby(...).transform(...)`** (row-aligned) instead of multi-index tricks, fixing the earlier IndexError.\n",
    "\"\"\"\n",
    "\n",
    "step3 = \"\"\"\n",
    "## Step 3 — Priors: coach/team/defense tendencies (smoothed, as-of)\n",
    "Built **expanding “as-of” pass-rate estimates** with **Bayesian/Laplace smoothing** (league prior ≈ 0.58, strength *k* ≈ 100):\n",
    "\n",
    "- **Coach priors**: overall, by **down**, and by **distance bucket** → `coach_pass_rate_overall_asof`, `coach_down_pass_rate_next`, `coach_dist_pass_rate_next`.\n",
    "- **Team priors**: overall/by down/distance → `team_pass_rate_overall`, `team_down_pass_rate_next`, etc.\n",
    "- **Defense allow**: opponent pass tendency by down → `def_down_pass_allowed_next`.\n",
    "\n",
    "Data hygiene: handled NA-to-int and category fill issues (`fillna(False)` for bools; cast categories to object before filling).\n",
    "\"\"\"\n",
    "\n",
    "step4 = \"\"\"\n",
    "## Step 4 — Environment & *next*-snap context\n",
    "Engineered **next-snap** context that the target depends on:\n",
    "\n",
    "- `next_down`, `next_ydstogo`, `next_yardline_100`, `next_wp`, `next_half_seconds_remaining`\n",
    "- `next_offense_is_home` by comparing `next_posteam` with `home_team`\n",
    "- Off/def **timeouts** before next snap; clock/half/quarter; field side; roof/surface/weather (where available)\n",
    "- Fixed nullable-int dtype hiccups to keep Pandas happy in your environment.\n",
    "\"\"\"\n",
    "\n",
    "step5 = \"\"\"\n",
    "## Step 5 — Pruning to reduce leakage & overfit\n",
    "- **Dropped** leakage-prone/high-cardinality features: player IDs/names (tacklers, passer IDs) and **stadium**.\n",
    "- **Kept** football-salient signals: coach/team priors, `xpass`, win prob, down/distance, field position.\n",
    "- Ablations: removing players+stadium **helped generalization**; removing `xpass` **hurt**, so we kept it.\n",
    "\"\"\"\n",
    "\n",
    "training = \"\"\"\n",
    "## Training upgrades\n",
    "- **LightGBM** with native categorical support:\n",
    "  - Cast object columns to `category`, passed `categorical_feature` names to `fit(...)`.\n",
    "- **Group-aware split** by `game_id` to avoid within-game leakage.\n",
    "- Early stopping and light hyperparameter search (LR, `num_leaves`, feature/bagging fractions, L2).\n",
    "- **Calibration** (isotonic) was tested; raw probabilities had slightly better ECE, so we kept raw for now.\n",
    "\"\"\"\n",
    "\n",
    "results = \"\"\"\n",
    "## Results (representative)\n",
    "- **Test**: **ACC ≈ 0.706–0.708**, **AUC ≈ 0.769–0.770**, **LogLoss ≈ 0.560–0.563**, **Brier ≈ 0.190**.\n",
    "- Clear lift from ~0.66 baseline; better ranking (AUC) and solid calibration.\n",
    "- Top features (gain/splits): **EPA / xpass / side_of_field / down & distance / WP**, **next-snap** context, and our **coach/team tendency** features.\n",
    "\"\"\"\n",
    "\n",
    "viz = \"\"\"\n",
    "## Diagnostics & storytelling\n",
    "Prepared cells for:\n",
    "- **ROC & PR curves** (baseline vs new raw vs calibrated)\n",
    "- **Reliability/Calibration** plots\n",
    "- **Threshold sweep** (accuracy/F1 vs threshold) + confusion matrices\n",
    "- **Cumulative gain** curves\n",
    "- **By-situation heatmaps** (AUC & |calibration gap| across **next_down × distance**)\n",
    "\"\"\"\n",
    "\n",
    "tldr = \"\"\"\n",
    "## TL;DR impact\n",
    "Shifted from a “single previous play” heuristic to a **contextual, sequence-aware** model that encodes:\n",
    "\n",
    "1. **Short-term momentum** (rolling windows)\n",
    "2. **Stable priors** (coach/team/defense, smoothed and as-of)\n",
    "3. **True next-snap context** (down/distance/field/time/WP)\n",
    "\n",
    "…and **removed leakage-prone identifiers**. Result: higher discrimination, better calibration, and more robust generalization.\n",
    "\"\"\"\n",
    "\n",
    "for md in [title, where_started, labeling, step1, step2, step3, step4, step5, training, results, viz, tldr]:\n",
    "    display(Markdown(md))"
   ]
  }
 ],
 "metadata": {
  "colab": {
   "name": "4_1_Logistic Regression.ipynb",
   "provenance": []
  },
  "kernelspec": {
   "display_name": "Python 3 (ipykernel)",
   "language": "python",
   "name": "python3"
  },
  "language_info": {
   "codemirror_mode": {
    "name": "ipython",
    "version": 3
   },
   "file_extension": ".py",
   "mimetype": "text/x-python",
   "name": "python",
   "nbconvert_exporter": "python",
   "pygments_lexer": "ipython3",
   "version": "3.11.1"
  },
  "varInspector": {
   "cols": {
    "lenName": 16,
    "lenType": 16,
    "lenVar": 40
   },
   "kernels_config": {
    "python": {
     "delete_cmd_postfix": "",
     "delete_cmd_prefix": "del ",
     "library": "var_list.py",
     "varRefreshCmd": "print(var_dic_list())"
    },
    "r": {
     "delete_cmd_postfix": ") ",
     "delete_cmd_prefix": "rm(",
     "library": "var_list.r",
     "varRefreshCmd": "cat(var_dic_list()) "
    }
   },
   "types_to_exclude": [
    "module",
    "function",
    "builtin_function_or_method",
    "instance",
    "_Feature"
   ],
   "window_display": false
  }
 },
 "nbformat": 4,
 "nbformat_minor": 4
}
